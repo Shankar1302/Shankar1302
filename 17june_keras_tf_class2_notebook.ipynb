{
 "cells": [
  {
   "cell_type": "markdown",
   "metadata": {
    "id": "HMyAUbOqOGgU"
   },
   "source": [
    "## Load correct version of TensorFlow\n",
    "Before we use TensorFlow we must load the correct version.  We want version 2.x."
   ]
  },
  {
   "cell_type": "code",
   "execution_count": 1,
   "metadata": {
    "colab": {
     "base_uri": "https://localhost:8080/"
    },
    "id": "uwTnmk_IPQbz",
    "outputId": "74f2f0f5-e8d3-4319-dd2c-b94915b3ce78"
   },
   "outputs": [
    {
     "name": "stdout",
     "output_type": "stream",
     "text": [
      "Colab only includes TensorFlow 2.x; %tensorflow_version has no effect.\n"
     ]
    }
   ],
   "source": [
    "# Install TensorFlow using Colab's tensorflow_version command\n",
    "try:\n",
    "  # %tensorflow_version only exists in Colab.\n",
    "  %tensorflow_version 2.x\n",
    "except Exception:\n",
    "  pass"
   ]
  },
  {
   "cell_type": "markdown",
   "metadata": {
    "id": "SaSlAAqoIiv6"
   },
   "source": [
    "## Import Libraries\n",
    "\n",
    "We import TensorFlow, Numpy, and Matplotlib libraries.\n",
    "\n",
    "Numpy is a powerful n-dimensional array library that\n",
    "allows us to easily create and manipulate arrays of data, and more!\n",
    "\n",
    "Numpy also allows us to convert TensorFlow's native data structures,\n",
    "to Python native data types.\n",
    "\n",
    "Matplotlib is a graphics plot library"
   ]
  },
  {
   "cell_type": "code",
   "execution_count": 2,
   "metadata": {
    "id": "qVJKEAqsIXEi"
   },
   "outputs": [],
   "source": [
    "# Import libraries\n",
    "import tensorflow as tf\n",
    "import numpy as np\n",
    "import matplotlib.pyplot as plt"
   ]
  },
  {
   "cell_type": "code",
   "execution_count": 3,
   "metadata": {
    "colab": {
     "base_uri": "https://localhost:8080/"
    },
    "id": "_vjZGJOwSxmR",
    "outputId": "2afd79ff-7d07-4488-be37-04cb60820511"
   },
   "outputs": [
    {
     "name": "stdout",
     "output_type": "stream",
     "text": [
      "TensorFlow version: 2.12.0\n"
     ]
    }
   ],
   "source": [
    "# Check TensorFlow version\n",
    "print(\"TensorFlow version:\", tf.__version__)"
   ]
  },
  {
   "cell_type": "markdown",
   "metadata": {
    "id": "bC7-g3yGJCdW"
   },
   "source": [
    "# Fashion-MNIST Neural Network\n",
    "\n",
    "This notebook implements a simple NN consisting of two dense layers, and uses this network to classify Fashion-MNIST images.\n",
    "\n",
    "These Fashion-MNIST images consist of clothing items from these ten classes. (*T-shirt/top, Trouser, Pullover, Dress, Coat, Sandal, Shirt, Sneaker, Bag, Ankle boot)*"
   ]
  },
  {
   "cell_type": "markdown",
   "metadata": {
    "id": "N49Xfo21RTr9"
   },
   "source": [
    "## Get Data\n",
    "\n",
    "### About the Fashion-MNIST dataset\n",
    "\n",
    "The Fashion-MNIST dataset is a widely available dataset.  It is documented at the https://github.com/zalandoresearch/fashion-mnist\n",
    "\n",
    "Each image in the dataset is 28 X 28 pixels.  The pixel values are a grayscale with values ranging from 0 to 255.\n",
    "\n",
    "Associated with each image is a number from 0 to 9 specifying the class of the fashion item in the image.  The values for the classes are:\n",
    "\n",
    "| Label | Description |\n",
    "|-------|-------------|\n",
    "| 0     | T-shirt/top |\n",
    "|   1    | Trouser    |\n",
    "|  2     |  Pullover  |\n",
    "|   3    |    Dress    |\n",
    "|    4   |    Coat      |\n",
    "|   5    | Sandal     |\n",
    "|   6    | Shirt         |\n",
    "|    7   |  Sneaker  |\n",
    "|   8    |  Bag          |\n",
    "|  9     | Ankle boot |\n",
    "\n",
    "There are 60,000 Training examples and 10,000 Testing examples."
   ]
  },
  {
   "cell_type": "markdown",
   "metadata": {
    "id": "qswhm4c7nMVl"
   },
   "source": [
    "We will need these class names later in the code.  So we create an list of names we can index by the class label number.  For example, class_names[2] = 'Pullover' and class_names[9] = 'Ankle boot'."
   ]
  },
  {
   "cell_type": "code",
   "execution_count": 4,
   "metadata": {
    "id": "zK737-ABm7od"
   },
   "outputs": [],
   "source": [
    "# Define class names to display\n",
    "class_names = ['T-shirt/top', 'Trouser', 'Pullover', 'Dress', 'Coat',\n",
    "                  'Sandal', 'Shirt', 'Sneaker', 'Bag', 'Ankle boot']"
   ]
  },
  {
   "cell_type": "markdown",
   "metadata": {
    "id": "YcAJeHCCm_TW"
   },
   "source": [
    "Fashion-MNIST is one of the datasets provided with Keras in Tensorflow.  Keras' Dataset library provides a load_data() method that will download the dataset of 60,000 Training images and their corresponding 60,000 labels, and 10,000 Test images and their corresponding 10,000 labels."
   ]
  },
  {
   "cell_type": "code",
   "execution_count": 5,
   "metadata": {
    "colab": {
     "base_uri": "https://localhost:8080/"
    },
    "id": "1MMs613GNLe4",
    "outputId": "55aec4d8-cb8e-48ae-ebce-98ebf0a768d9"
   },
   "outputs": [
    {
     "name": "stdout",
     "output_type": "stream",
     "text": [
      "Downloading data from https://storage.googleapis.com/tensorflow/tf-keras-datasets/train-labels-idx1-ubyte.gz\n",
      "29515/29515 [==============================] - 0s 0us/step\n",
      "Downloading data from https://storage.googleapis.com/tensorflow/tf-keras-datasets/train-images-idx3-ubyte.gz\n",
      "26421880/26421880 [==============================] - 1s 0us/step\n",
      "Downloading data from https://storage.googleapis.com/tensorflow/tf-keras-datasets/t10k-labels-idx1-ubyte.gz\n",
      "5148/5148 [==============================] - 0s 0us/step\n",
      "Downloading data from https://storage.googleapis.com/tensorflow/tf-keras-datasets/t10k-images-idx3-ubyte.gz\n",
      "4422102/4422102 [==============================] - 1s 0us/step\n"
     ]
    }
   ],
   "source": [
    "fashion_mnist = tf.keras.datasets.fashion_mnist\n",
    "(train_images, train_labels), (test_images, test_labels) = fashion_mnist.load_data()\n"
   ]
  },
  {
   "cell_type": "markdown",
   "metadata": {
    "id": "oAcxPIjJkLKZ"
   },
   "source": [
    "### Explore the data\n",
    "\n",
    "Let's look at our data."
   ]
  },
  {
   "cell_type": "code",
   "execution_count": 6,
   "metadata": {
    "colab": {
     "base_uri": "https://localhost:8080/"
    },
    "id": "Umx96CdYV-yz",
    "outputId": "e81684b7-c712-45c0-c9d3-361b8767b259"
   },
   "outputs": [
    {
     "name": "stdout",
     "output_type": "stream",
     "text": [
      "Training data: (60000, 28, 28) (60000,)\n",
      "Test data: (10000, 28, 28) (10000,)\n"
     ]
    }
   ],
   "source": [
    "# Print the shape of the data tensors we loaded.  Should be:\n",
    "#   60,000 training 28X28 images and their labels, and 10,000 testing images and their labels\n",
    "print ('Training data:', train_images.shape, train_labels.shape)\n",
    "print ('Test data:', test_images.shape, test_labels.shape)"
   ]
  },
  {
   "cell_type": "markdown",
   "metadata": {
    "id": "4Jq_XBs9Xa6C"
   },
   "source": [
    "### Inspect data\n",
    "Each image should be a 28 X 28 image and have a gray scale value of 0-255. Let's display an arbitrary image.\n",
    "\n",
    "You should see:\n",
    "* A title that specifies the class of the image, whose description is shown on the table above.\n",
    "* The image\n",
    "* The 28 by 28 width and height pixel index\n",
    "* and on the right the grayscale legend associated with the pixel values."
   ]
  },
  {
   "cell_type": "code",
   "execution_count": 7,
   "metadata": {
    "id": "ni0bRFhjWP1y"
   },
   "outputs": [],
   "source": [
    "def show_training_image(index):\n",
    "  img_label = str(train_labels[index]) + ' (' +  class_names[train_labels[index]] + ')'\n",
    "  plt.figure()\n",
    "  plt.title('Image Label ' + img_label)\n",
    "  plt.imshow(train_images[index], cmap='gray')  # data is grayscale, but displays in color without cmap='gray'\n",
    "  plt.colorbar()\n",
    "  plt.show()\n"
   ]
  },
  {
   "cell_type": "code",
   "execution_count": 8,
   "metadata": {
    "colab": {
     "base_uri": "https://localhost:8080/",
     "height": 452
    },
    "id": "gJa1Wq_4acop",
    "outputId": "c7d114d7-5a05-4f2d-a667-0ce124aeb8ac"
   },
   "outputs": [
    {
     "data": {
      "image/png": "[encoded data removed]",
      "text/plain": [
       "<Figure size 640x480 with 2 Axes>"
      ]
     },
     "metadata": {},
     "output_type": "display_data"
    }
   ],
   "source": [
    "img_index = 100\n",
    "show_training_image(img_index)"
   ]
  },
  {
   "cell_type": "markdown",
   "metadata": {
    "id": "Db_TW6wccWHw"
   },
   "source": [
    "## Prepare Data\n",
    "\n",
    "As usual we need to do some pre-processing of the data.  Here we want to scale the pixels values from 0 to 255 to 0.0 to 1.0.  We scale both the training and testing image values."
   ]
  },
  {
   "cell_type": "code",
   "execution_count": 9,
   "metadata": {
    "colab": {
     "base_uri": "https://localhost:8080/",
     "height": 452
    },
    "id": "o0vDE9tBYUWx",
    "outputId": "b5869950-20cb-4448-bb1b-51211a8e937a"
   },
   "outputs": [
    {
     "data": {
      "image/png": "[encoded data removed]",
      "text/plain": [
       "<Figure size 640x480 with 2 Axes>"
      ]
     },
     "metadata": {},
     "output_type": "display_data"
    }
   ],
   "source": [
    "# scale training and testing image values\n",
    "train_images = train_images / 255.0\n",
    "test_images = test_images / 255.0\n",
    "\n",
    "# Print the image again and notice the values now range from 0 to 1.\n",
    "#   And the image looks the same, just on a different scale.\n",
    "show_training_image(img_index)"
   ]
  },
  {
   "cell_type": "markdown",
   "metadata": {
    "id": "ZAAj8oXkeBsY"
   },
   "source": [
    "## Create Model\n",
    "\n",
    "We can now create the model we are going to train with the data.\n",
    "\n",
    "This will be a simple model that:\n",
    "* Flattens the 28 X 28 pixel values into a long stream of 28 by 28 = 784 pixel values - Note this is a Keras layer but is not a neural network layer. Notice the input_shape parameter contains only the shape of a single data element.  There are n data elements each with this same shape.\n",
    "* Passes each pixel value as the input to each of the 128 neurons.\n",
    "* And finally passes values to the last layer that contains 10 neurons, one for each of the ten classes (t-shirt, pullover, etc).  Each of these 10 neurons uses the Softmax activation function to determine the probability that the image is each class.  The final output from the model is a vector of probabilities that the image is of each class.  Such as :\n",
    "[0.01, 0.05, 0.04, 0.06, 0.50, 0.20, 0.04, 0.00, 0.03, 0.07].  This example vector adds up to 1.0 and shows the probability that the image is class 0 (T-shirt/top) is 0.01 (1%), class 1 (Trousers) is 0.05 (5%), class 2 (Pullover) is 0.04 (4%), ....\n"
   ]
  },
  {
   "cell_type": "code",
   "execution_count": 10,
   "metadata": {
    "id": "0N2R893MdSZn"
   },
   "outputs": [],
   "source": [
    "\n",
    "model = tf.keras.models.Sequential()      # Create a new sequential model\n",
    "model.add(tf.keras.layers.Flatten(input_shape=(28,28)))    # keras processing layer - no neurons\n",
    "model.add(tf.keras.layers.Dense(128, activation='relu', name='dense-128-relu'))   # 128 neurons connected to pixels\n",
    "model.add(tf.keras.layers.Dense(10, activation='softmax', name='dense-10-softmax')) # determines probability of each of the 10 classes\n"
   ]
  },
  {
   "cell_type": "markdown",
   "metadata": {
    "id": "6nu2185LTBq8"
   },
   "source": [
    "### Structure of the model\n",
    "\n",
    "To make it easy for us to visualize the model, Keras models have a summary method.  When we call it we see our model structure.\n",
    "\n",
    "For completeness we also show the shape of the input data.\n"
   ]
  },
  {
   "cell_type": "code",
   "execution_count": 11,
   "metadata": {
    "colab": {
     "base_uri": "https://localhost:8080/"
    },
    "id": "0gXXuAqQURdH",
    "outputId": "99cb4bf4-b570-4471-94c9-f64829e48c19"
   },
   "outputs": [
    {
     "name": "stdout",
     "output_type": "stream",
     "text": [
      "Input Shape: (60000, 28, 28)\n",
      "\n",
      "Model: \"sequential\"\n",
      "_________________________________________________________________\n",
      " Layer (type)                Output Shape              Param #   \n",
      "=================================================================\n",
      " flatten (Flatten)           (None, 784)               0         \n",
      "                                                                 \n",
      " dense-128-relu (Dense)      (None, 128)               100480    \n",
      "                                                                 \n",
      " dense-10-softmax (Dense)    (None, 10)                1290      \n",
      "                                                                 \n",
      "=================================================================\n",
      "Total params: 101,770\n",
      "Trainable params: 101,770\n",
      "Non-trainable params: 0\n",
      "_________________________________________________________________\n",
      "None\n"
     ]
    }
   ],
   "source": [
    "print('Input Shape:', train_images.shape)\n",
    "print()\n",
    "print(model.summary())"
   ]
  },
  {
   "cell_type": "markdown",
   "metadata": {
    "id": "BJTmzxCJ3Bpi"
   },
   "source": [
    "### Compile the model\n",
    "\n",
    "Before we can train the model we need to specify how the model will learn from the training data.  To do this we specify:\n",
    "*  loss - how we measure loss (error).  We will use sparse_categorical_crossentropy, which determines the highest predicted class and calculates loss based on how often this is the correct class.\n",
    "*     optimizer - how the model will update the model's weights to reduce the loss.  We use the Adam variant of Mini-batch Gradient Descent.\n",
    "* metrics  - the metrics used for evaluation of training and test.  In this case we use accuracy, that is how often the images are correctly classified.  Higher is better. (1.00 would be perfect (100%), 0,75 = 75%, 0.25 = 25%, ...)\n"
   ]
  },
  {
   "cell_type": "code",
   "execution_count": 12,
   "metadata": {
    "id": "TW9pZ8kw2Nid"
   },
   "outputs": [],
   "source": [
    "model.compile(optimizer='adam',\n",
    "              loss='sparse_categorical_crossentropy',\n",
    "              metrics=['accuracy'])\n"
   ]
  },
  {
   "cell_type": "markdown",
   "metadata": {
    "id": "T7wyz8jh6ZA6"
   },
   "source": [
    "## Train the Model\n",
    "Now that we have our data and model, and have specified how the model will learn from the data we can train it."
   ]
  },
  {
   "cell_type": "code",
   "execution_count": 13,
   "metadata": {
    "colab": {
     "base_uri": "https://localhost:8080/"
    },
    "id": "osxdZq5y6qF1",
    "outputId": "b78941cf-17bf-4b4d-bff9-b2163c02a6dd"
   },
   "outputs": [
    {
     "name": "stdout",
     "output_type": "stream",
     "text": [
      "Epoch 1/5\n",
      "1875/1875 [==============================] - 11s 2ms/step - loss: 0.4925 - accuracy: 0.8268\n",
      "Epoch 2/5\n",
      "1875/1875 [==============================] - 5s 3ms/step - loss: 0.3660 - accuracy: 0.8677\n",
      "Epoch 3/5\n",
      "1875/1875 [==============================] - 6s 3ms/step - loss: 0.3335 - accuracy: 0.8780\n",
      "Epoch 4/5\n",
      "1875/1875 [==============================] - 5s 3ms/step - loss: 0.3095 - accuracy: 0.8863\n",
      "Epoch 5/5\n",
      "1875/1875 [==============================] - 5s 3ms/step - loss: 0.2910 - accuracy: 0.8928\n"
     ]
    }
   ],
   "source": [
    "train_hist = model.fit(train_images, train_labels, epochs=5)"
   ]
  },
  {
   "cell_type": "markdown",
   "metadata": {
    "id": "R2TLdEfR9tus"
   },
   "source": [
    "Plot the training to makes sure it is converging."
   ]
  },
  {
   "cell_type": "code",
   "execution_count": null,
   "metadata": {
    "id": "5hCztJ2o90DS"
   },
   "outputs": [],
   "source": [
    "def plot_acc(hist):\n",
    "  # plot the accuracy\n",
    "  plt.title('Accuracy History')\n",
    "  plt.plot(hist.history['accuracy'])\n",
    "  plt.ylabel('Accuracy')\n",
    "  plt.xlabel('epoch')\n",
    "  plt.show()\n",
    "\n",
    "def plot_loss(hist):\n",
    "  # plot the loss\n",
    "  plt.title('Loss History')\n",
    "  plt.plot(hist.history['loss'])\n",
    "  plt.ylabel('loss')\n",
    "  plt.xlabel('epoch')\n",
    "  plt.show()\n",
    "\n"
   ]
  },
  {
   "cell_type": "code",
   "execution_count": null,
   "metadata": {
    "id": "Zljp5aHqv514"
   },
   "outputs": [],
   "source": [
    "plot_loss(train_hist)\n",
    "plot_acc(train_hist)"
   ]
  },
  {
   "cell_type": "markdown",
   "metadata": {
    "id": "0WOXQpc99Ttj"
   },
   "source": [
    "## Evaluate Trained Model\n",
    "\n",
    "Once we have the model trained, we need to see how it will perform on data that it was not trained on, that is, test data.\n",
    "\n",
    "We do this with Keras' evaluation function and the test dataset we retrieved earlier.\n"
   ]
  },
  {
   "cell_type": "code",
   "execution_count": null,
   "metadata": {
    "id": "9yEEjOV69uay"
   },
   "outputs": [],
   "source": [
    "test_loss, test_acc = model.evaluate(test_images, test_labels, verbose=0)\n",
    "\n",
    "print('max training accuracy:', max(train_hist.history['accuracy']), '  test accuracy:', test_acc)"
   ]
  },
  {
   "cell_type": "markdown",
   "metadata": {
    "id": "nAB01AmFAYw6"
   },
   "source": [
    "## Training Results\n",
    "\n",
    "The model has **about 96% accuracy** on the training data.  And **only 88% accuracy** on testing data on which it was not trained. This is a classic sign that the model overfits the training data.\n",
    "\n",
    "We need to determine how we can reduce this overfitting and get **good accuracy on both training and test data!**\n",
    "\n",
    "\n"
   ]
  },
  {
   "cell_type": "markdown",
   "metadata": {
    "id": "6olDUcpiVkxe"
   },
   "source": [
    "# Monitoring and Improving our Trained Model’s Performance\n",
    "\n",
    "In this section, we want to make changes to improve the performance of our trained model.  By improved performance we mean having the model not overfit the training data and perform poorly on the testing data.\n",
    "\n",
    "There are serveral common techniques to fix this problem.  These include:\n",
    "\n",
    "1.   Reducing Model Complexity - removing neurons or layers\n",
    "2.   Dropout - Randomly removing the contributions from some neurons\n",
    "3.   Early Stopping - Terminating training as early as possible\n",
    "\n",
    "We will try these below.\n",
    "\n"
   ]
  },
  {
   "cell_type": "markdown",
   "metadata": {
    "id": "gxM0Nan9ZjmK"
   },
   "source": [
    "## Monitoring performance with TensorBoard\n",
    "\n",
    "We want to ensure we are getting good data to evaluate the performance of our changes.  Fortunately the TensorFlow family include the tool **TensorBoard**.\n",
    "\n",
    "TensorBoard provides us various ways to monitor the performance of our models including:\n",
    "\n",
    "*    Visualizing metrics such as loss and accuracy\n",
    "*    Comparision of training and evaluation metrics\n",
    "*    Visualizing the model graph (ops and layers)\n",
    "*    Viewing histograms of weights, biases, or other tensors as they change over time\n"
   ]
  },
  {
   "cell_type": "markdown",
   "metadata": {
    "id": "rdydWnoYe7gy"
   },
   "source": [
    "TensorBoard can be run inside a Colab notebook, or if you are running your code directly in Python you can invoke TensorBoard from the command line."
   ]
  },
  {
   "cell_type": "code",
   "execution_count": null,
   "metadata": {
    "id": "3d1xtI7LjJyf"
   },
   "outputs": [],
   "source": [
    "import datetime"
   ]
  },
  {
   "cell_type": "code",
   "execution_count": null,
   "metadata": {
    "id": "m6dqMFnCbkC_"
   },
   "outputs": [],
   "source": [
    "# Load the tensorboard extension\n",
    "% reload_ext tensorboard"
   ]
  },
  {
   "cell_type": "code",
   "execution_count": null,
   "metadata": {
    "id": "vaXgSi2yi550"
   },
   "outputs": [],
   "source": [
    "# Clear any logs from previous runs\n",
    "!rm -rf ./logs/"
   ]
  },
  {
   "cell_type": "code",
   "execution_count": null,
   "metadata": {
    "id": "08RQKiAXi_Yz"
   },
   "outputs": [],
   "source": [
    "# Start with a fresh model\n",
    "model = tf.keras.models.Sequential()      # Create a new sequential model\n",
    "model.add(tf.keras.layers.Flatten(input_shape=(28,28)))    # keras processing layer - no neurons\n",
    "model.add(tf.keras.layers.Dense(128, activation='relu', name='dense-128-relu'))   # 128 neurons connected to pixels\n",
    "model.add(tf.keras.layers.Dense(10, activation='softmax', name='dense-10-softmax')) # determine probability of each of the 10 classes"
   ]
  },
  {
   "cell_type": "code",
   "execution_count": null,
   "metadata": {
    "id": "Ig5AjqzkjEwM"
   },
   "outputs": [],
   "source": [
    "model.compile(optimizer='adam',\n",
    "              loss='sparse_categorical_crossentropy',\n",
    "              metrics=['accuracy'])\n",
    "\n",
    "\n",
    "log_dir='logs/fit/' + datetime.datetime.now().strftime('%Y%m%d-%H%M%S')\n",
    "tensorboard_callback = tf.keras.callbacks.TensorBoard(log_dir=log_dir, histogram_freq=1)\n",
    "\n",
    "# We add to the fit method the validation/test data.  This will cause the training model\n",
    "# to evaluate itself on the validation/test data on each epoch.  This provides per\n",
    "# epoch data points TensorBoard can plot so we can see the trend.\n",
    "train_hist = model.fit(train_images, train_labels, epochs=40,\n",
    "                       validation_data=(test_images, test_labels),\n",
    "                        callbacks=[tensorboard_callback])\n",
    "\n"
   ]
  },
  {
   "cell_type": "code",
   "execution_count": null,
   "metadata": {
    "id": "wx9ATGksjWyV"
   },
   "outputs": [],
   "source": [
    "#!kill 1234   # sometime TensorBoard does not show all data.  If it shows reusing previous instance use kill command listed\n",
    "%tensorboard --logdir logs/fit"
   ]
  },
  {
   "cell_type": "markdown",
   "metadata": {
    "id": "v05icTF1mDfB"
   },
   "source": [
    "## Fixing Fashion MNIST"
   ]
  },
  {
   "cell_type": "markdown",
   "metadata": {
    "id": "E6zDDPjrFm17"
   },
   "source": [
    "### Reducing Model Complexity\n",
    "\n",
    "In a large model we can consider reducing the number of hidden layers.  But our model only has one hidden layer and we need it.  So the only thing to do is reduce the number of neurons in the hidden layer.  Everthing else is the same\n",
    "as above."
   ]
  },
  {
   "cell_type": "code",
   "execution_count": null,
   "metadata": {
    "id": "I1UvcFL9Qmps"
   },
   "outputs": [],
   "source": [
    "# Load the tensorboard extension\n",
    "% reload_ext tensorboard"
   ]
  },
  {
   "cell_type": "code",
   "execution_count": null,
   "metadata": {
    "id": "UNwSQKJyQmp-"
   },
   "outputs": [],
   "source": [
    "# Clear any logs from previous runs\n",
    "!rm -rf ./logs/"
   ]
  },
  {
   "cell_type": "code",
   "execution_count": null,
   "metadata": {
    "id": "CCUSydw2QmqJ"
   },
   "outputs": [],
   "source": [
    "\n",
    "model = tf.keras.models.Sequential()      # Create a new sequential model\n",
    "model.add(tf.keras.layers.Flatten(input_shape=(28,28)))    # keras processing layer - no neurons\n",
    "model.add(tf.keras.layers.Dense(64, activation='relu', name='dense-64-relu'))   # 64 neurons connected to pixels\n",
    "#model.add(tf.keras.layers.Dense(128, activation='relu', name='dense-128-relu'))   # 128 neurons connected to pixels\n",
    "model.add(tf.keras.layers.Dense(10, activation='softmax', name='dense-10-softmax')) # determine probability of each of the 10 classes"
   ]
  },
  {
   "cell_type": "code",
   "execution_count": null,
   "metadata": {
    "id": "n8yt3SeaQmqN"
   },
   "outputs": [],
   "source": [
    "model.compile(optimizer='adam',\n",
    "              loss='sparse_categorical_crossentropy',\n",
    "              metrics=['accuracy'])\n",
    "\n",
    "\n",
    "log_dir= 'logs/fit/' + datetime.datetime.now().strftime('%Y%m%d-%H%M%S')\n",
    "tensorboard_callback = tf.keras.callbacks.TensorBoard(log_dir=log_dir, histogram_freq=1)\n",
    "\n",
    "# We add to the fit method the validation/test data.  This will cause the training model\n",
    "# to evaluate itself on the validation/test data on each epoch.  This provides per\n",
    "# epoch data points TensorBoard can plot so we can see the trend.\n",
    "train_hist = model.fit(train_images, train_labels, epochs=40,\n",
    "                       validation_data=(test_images, test_labels),\n",
    "                        callbacks=[tensorboard_callback])\n",
    "\n"
   ]
  },
  {
   "cell_type": "markdown",
   "metadata": {
    "id": "Ke-rDI6UmGaX"
   },
   "source": [
    "Show the results with TensorBoard"
   ]
  },
  {
   "cell_type": "code",
   "execution_count": null,
   "metadata": {
    "id": "hox4ABkzmFWm"
   },
   "outputs": [],
   "source": [
    "#!kill 1234   # sometime TensorBoard does not show all data.  If it shows reusing previous instance use kill command listed\n",
    "%tensorboard --logdir logs/fit"
   ]
  },
  {
   "cell_type": "markdown",
   "metadata": {
    "id": "qBwxV4HjFOwT"
   },
   "source": [
    "### Randomly dropout some neurons\n",
    "\n",
    "To randomly shut down the contribution from some neurons, we add a Keras dropout layer.  This layer randomly sets the outputs from the previous layer to 0.  How many outputs are set to 0 is defined by the parameter we pass.  To set 50% of\n",
    "the outputs to 0 pass 0.5.  For 20% pass 0.2.\n",
    "\n",
    "Also, the decision on which connections get dropped is a random selection that\n",
    "changes from epoch to epoch."
   ]
  },
  {
   "cell_type": "code",
   "execution_count": null,
   "metadata": {
    "id": "xSMjk8zBpc2A"
   },
   "outputs": [],
   "source": [
    "# Load the tensorboard extension\n",
    "% reload_ext tensorboard"
   ]
  },
  {
   "cell_type": "code",
   "execution_count": null,
   "metadata": {
    "id": "3GcFNsSBpc2O"
   },
   "outputs": [],
   "source": [
    "# Clear any logs from previous runs\n",
    "!rm -rf ./logs/"
   ]
  },
  {
   "cell_type": "code",
   "execution_count": null,
   "metadata": {
    "id": "W9SazRfplKGA"
   },
   "outputs": [],
   "source": [
    "model = tf.keras.models.Sequential()      # Create a new sequential model\n",
    "model.add(tf.keras.layers.Flatten(input_shape=(28,28)))    # keras processing layer - no neurons\n",
    "model.add(tf.keras.layers.Dense(128, activation='relu', name='dense-128-relu'))   # 128 neurons connected to pixels\n",
    "model.add(tf.keras.layers.Dropout(0.2))  # dropout 20%\n",
    "model.add(tf.keras.layers.Dense(10, activation='softmax', name='dense-10-softmax')) # determine probability of each of the 10 classes"
   ]
  },
  {
   "cell_type": "code",
   "execution_count": null,
   "metadata": {
    "id": "OM9BuhuBlWo0"
   },
   "outputs": [],
   "source": [
    "model.compile(optimizer='adam',\n",
    "              loss='sparse_categorical_crossentropy',\n",
    "              metrics=['accuracy'])"
   ]
  },
  {
   "cell_type": "code",
   "execution_count": null,
   "metadata": {
    "id": "jM5sr1YGlcIb"
   },
   "outputs": [],
   "source": [
    "log_dir='logs/fit/' + datetime.datetime.now().strftime('%Y%m%d-%H%M%S')\n",
    "tensorboard_callback = tf.keras.callbacks.TensorBoard(log_dir=log_dir, histogram_freq=1)\n",
    "\n",
    "model.fit(x=train_images,\n",
    "          y=train_labels,\n",
    "          epochs=40,\n",
    "          validation_data=(test_images, test_labels),\n",
    "          callbacks=[tensorboard_callback])\n"
   ]
  },
  {
   "cell_type": "code",
   "execution_count": null,
   "metadata": {
    "id": "qlUy6ZlRlOZ8"
   },
   "outputs": [],
   "source": [
    "#!kill 1234   # sometime TensorBoard does not show all data.  If it shows reusing previous instance use kill command listed\n",
    "%tensorboard --logdir logs/fit"
   ]
  },
  {
   "cell_type": "markdown",
   "metadata": {
    "id": "3wrym729ZWre"
   },
   "source": [
    "### Implementing Early Stopping\n",
    "\n",
    "Early stopping involves having the training stop when the model has been trained enough.\n",
    "\n",
    "Often training is slow in terms of time, and expensive in terms of compute time on big clusters or a cloud service.  So it is useful to be able to stop training as soon as reasonable.  And reasonable is usually when the metric like lose quits decreasing.  So the question is, how can we know when the loss quits decreasing?\n",
    "\n",
    "We could run a bunch of trials and use a tool like TensorBoard to plot curves.  But it is tedious to write a model with 20 epochs, run it, see loss was decreasing, then repeat that with 40 epochs, etc.  Worse, if we change the model or it's parameters, like adjusting the dropout percentage, the number of epochs required to see when the loss stops decreasing might be different.\n",
    "\n",
    "So what we need is an automated way to detect when training has quit improving and terminate training.  And fortunately Keras has an early stopping feature that does just this!"
   ]
  },
  {
   "cell_type": "markdown",
   "metadata": {
    "id": "_lKTkBVvN2dI"
   },
   "source": [
    "We start with the same model, optimizer, loss, and log clearing code as before."
   ]
  },
  {
   "cell_type": "code",
   "execution_count": null,
   "metadata": {
    "id": "D0FSUxUT3Cuf"
   },
   "outputs": [],
   "source": [
    "# Load the tensorboard extension\n",
    "% reload_ext tensorboard"
   ]
  },
  {
   "cell_type": "code",
   "execution_count": null,
   "metadata": {
    "id": "dGm6LMEL2--j"
   },
   "outputs": [],
   "source": [
    "# Clear any logs from previous runs\n",
    "!rm -rf ./logs/"
   ]
  },
  {
   "cell_type": "code",
   "execution_count": null,
   "metadata": {
    "id": "62luPqB8NqaI"
   },
   "outputs": [],
   "source": [
    "model = tf.keras.models.Sequential()      # Create a new sequential model\n",
    "model.add(tf.keras.layers.Flatten(input_shape=(28,28)))    # keras processing layer - no neurons\n",
    "model.add(tf.keras.layers.Dense(128, activation='relu', name='dense-128-relu'))   # 128 neurons connected to pixels\n",
    "model.add(tf.keras.layers.Dense(10, activation='softmax', name='dense-10-softmax')) # determine probability of each of the 10 classes"
   ]
  },
  {
   "cell_type": "code",
   "execution_count": null,
   "metadata": {
    "id": "ROXcHFavNqaS"
   },
   "outputs": [],
   "source": [
    "model.compile(optimizer='adam',\n",
    "              loss='sparse_categorical_crossentropy',\n",
    "              metrics=['accuracy'])"
   ]
  },
  {
   "cell_type": "markdown",
   "metadata": {
    "id": "F6TY_BVDOou_"
   },
   "source": [
    "We create a new EarlyStopping callback.\n",
    "\n",
    "And we set the **monitor** parameter to the parameter to monitor, which is **validation loss**. And the  **patience** parameter to the maximum number of epochs without improvement allowed.  And if the parameter does not improve within the patience number of epochs, the training will be terminated.\n",
    "\n",
    "This new callback gets added to the list of callbacks."
   ]
  },
  {
   "cell_type": "code",
   "execution_count": null,
   "metadata": {
    "id": "1o3tiyB_NyhV"
   },
   "outputs": [],
   "source": [
    "log_dir='logs/fit/' + datetime.datetime.now().strftime('%Y%m%d-%H%M%S')\n",
    "tensorboard_callback = tf.keras.callbacks.TensorBoard(log_dir=log_dir, histogram_freq=1)\n",
    "early_stopping_callback = tf.keras.callbacks.EarlyStopping(monitor='val_loss', patience=4)\n",
    "\n",
    "model.fit(x=train_images,\n",
    "          y=train_labels,\n",
    "          epochs=40,\n",
    "          validation_data=(test_images, test_labels),\n",
    "          callbacks=[tensorboard_callback, early_stopping_callback])\n"
   ]
  },
  {
   "cell_type": "code",
   "execution_count": null,
   "metadata": {
    "id": "vUIOxIxcQSRH"
   },
   "outputs": [],
   "source": [
    "#!kill 1234   # sometime TensorBoard does not show all data.  If it shows reusing previous instance use kill command listed\n",
    "%tensorboard --logdir logs/fit"
   ]
  },
  {
   "cell_type": "markdown",
   "metadata": {
    "id": "AwGPItyphqXT"
   },
   "source": [
    "## Save Your Model\n",
    "\n",
    "Now that we have our model working well.  We can save it for reuse.\n",
    "\n",
    "By saving the model's structure and the associated trained weights we preserve our work.  Those weights are well over 101,000 values for which we had to work hard to get to the proper numbers!!\n"
   ]
  },
  {
   "cell_type": "code",
   "execution_count": 17,
   "metadata": {
    "colab": {
     "base_uri": "https://localhost:8080/"
    },
    "id": "0w5Rq8SsgWE6",
    "outputId": "7b33c018-8e45-49a1-a824-8f5cbbe967b1"
   },
   "outputs": [
    {
     "name": "stdout",
     "output_type": "stream",
     "text": [
      "Saving model to : /tmp/1\n",
      "\n",
      "Model saved\n"
     ]
    }
   ],
   "source": [
    "# We use the Python tempfile library to create files in a generated folder.\n",
    "# If you want to used a defined path, replace this code with your own\n",
    "# path definitions.\n",
    "import tempfile\n",
    "import os\n",
    "\n",
    "# get the tempfile location for this Colab session\n",
    "MODEL_DIR = tempfile.gettempdir()\n",
    "version = 1   # NOTE: Adjust if you don't want to replace a version of your model\n",
    "export_path = os.path.join(MODEL_DIR, str(version))  # the final path includes the version\n",
    "print('Saving model to : {}\\n'.format(export_path))\n",
    "\n",
    "# if path already exists delete everything at the location\n",
    "if os.path.isdir(export_path):\n",
    "  print('\\nPreviously saved model found, deleting it\\n')\n",
    "  !rm -r {export_path}\n",
    "\n",
    "# Save the model\n",
    "tf.saved_model.save(model, export_path)\n",
    "\n",
    "# Print save complete message\n",
    "print('Model saved')\n"
   ]
  },
  {
   "cell_type": "markdown",
   "metadata": {
    "id": "8YbP9MjFLkRJ"
   },
   "source": [
    "\n",
    "\n",
    "# Deploying our Trained Model\n",
    "\n",
    "Once we are satisified with the model's performance we can deploy it so other programs can use it.  This is a complex subject since the deployment strategies depend on how our model will be used.\n",
    "\n",
    "In this script we will show a very basic way of deploying the model.  We will do just enough so we can make predictions with our trained model from Python.\n",
    "\n"
   ]
  },
  {
   "cell_type": "markdown",
   "metadata": {
    "id": "BjXJXg2dZKlZ"
   },
   "source": [
    "## TensorFlow ModelServer\n",
    "\n",
    "We are going to use the Tensorflow ModelServer to serve our model.  This install may only work in Colab.\n",
    "\n",
    "*The recommendation for general installation and usage of the server is to use a docker container.  This is documented in the repo, https://github.com/tensorflow/serving/blob/master/tensorflow_serving/g3doc/setup.md*"
   ]
  },
  {
   "cell_type": "markdown",
   "metadata": {
    "id": "BTWb0-KjnHSP"
   },
   "source": [
    "## Add TensorFlow Serving as installable\n",
    "\n",
    "Before we can install the TensorFlow ModelServer we need to make it known to the APT installer so the installer know where to fetch the bits.\n",
    "\n",
    "We do this by adding a key in to the APT database refering to the tensorflow-serving files location."
   ]
  },
  {
   "cell_type": "code",
   "execution_count": 14,
   "metadata": {
    "colab": {
     "base_uri": "https://localhost:8080/"
    },
    "id": "yadLd4SqnwMT",
    "outputId": "4a1188f4-b2e3-4d92-bf0d-e70650b831d6"
   },
   "outputs": [
    {
     "name": "stdout",
     "output_type": "stream",
     "text": [
      "deb http://storage.googleapis.com/tensorflow-serving-apt stable tensorflow-model-server tensorflow-model-server-universal\n",
      "  % Total    % Received % Xferd  Average Speed   Time    Time     Time  Current\n",
      "                                 Dload  Upload   Total   Spent    Left  Speed\n",
      "100  2943  100  2943    0     0  18626      0 --:--:-- --:--:-- --:--:-- 18626\n",
      "OK\n",
      "Get:1 http://security.ubuntu.com/ubuntu focal-security InRelease [114 kB]\n",
      "Hit:2 http://ppa.launchpad.net/c2d4u.team/c2d4u4.0+/ubuntu focal InRelease\n",
      "Hit:3 http://archive.ubuntu.com/ubuntu focal InRelease\n",
      "Get:4 http://archive.ubuntu.com/ubuntu focal-updates InRelease [114 kB]\n",
      "Get:5 https://cloud.r-project.org/bin/linux/ubuntu focal-cran40/ InRelease [3,622 B]\n",
      "Hit:6 http://ppa.launchpad.net/cran/libgit2/ubuntu focal InRelease\n",
      "Hit:7 http://ppa.launchpad.net/deadsnakes/ppa/ubuntu focal InRelease\n",
      "Hit:8 https://developer.download.nvidia.com/compute/cuda/repos/ubuntu2004/x86_64  InRelease\n",
      "Get:9 http://archive.ubuntu.com/ubuntu focal-backports InRelease [108 kB]\n",
      "Get:10 http://ppa.launchpad.net/graphics-drivers/ppa/ubuntu focal InRelease [24.3 kB]\n",
      "Hit:11 http://ppa.launchpad.net/ubuntugis/ppa/ubuntu focal InRelease\n",
      "Get:12 http://storage.googleapis.com/tensorflow-serving-apt stable InRelease [3,026 B]\n",
      "Get:13 http://security.ubuntu.com/ubuntu focal-security/restricted amd64 Packages [2,400 kB]\n",
      "Get:14 http://security.ubuntu.com/ubuntu focal-security/main amd64 Packages [2,803 kB]\n",
      "Get:15 http://security.ubuntu.com/ubuntu focal-security/universe amd64 Packages [1,062 kB]\n",
      "Get:16 http://archive.ubuntu.com/ubuntu focal-updates/main amd64 Packages [3,282 kB]\n",
      "Get:17 http://archive.ubuntu.com/ubuntu focal-updates/restricted amd64 Packages [2,538 kB]\n",
      "Get:18 http://archive.ubuntu.com/ubuntu focal-updates/universe amd64 Packages [1,359 kB]\n",
      "Get:19 http://ppa.launchpad.net/graphics-drivers/ppa/ubuntu focal/main amd64 Packages [41.1 kB]\n",
      "Get:20 http://storage.googleapis.com/tensorflow-serving-apt stable/tensorflow-model-server amd64 Packages [338 B]\n",
      "Get:21 http://storage.googleapis.com/tensorflow-serving-apt stable/tensorflow-model-server-universal amd64 Packages [348 B]\n",
      "Fetched 13.9 MB in 2s (6,567 kB/s)\n",
      "Reading package lists... Done\n",
      "Building dependency tree       \n",
      "Reading state information... Done\n",
      "21 packages can be upgraded. Run 'apt list --upgradable' to see them.\n"
     ]
    }
   ],
   "source": [
    "# add the key\n",
    "!echo 'deb http://storage.googleapis.com/tensorflow-serving-apt stable tensorflow-model-server tensorflow-model-server-universal' | tee /etc/apt/sources.list.d/tensorflow-serving.list && \\\n",
    "curl https://storage.googleapis.com/tensorflow-serving-apt/tensorflow-serving.release.pub.gpg | apt-key add -\n",
    "# update the database with the new key\n",
    "!apt update"
   ]
  },
  {
   "cell_type": "markdown",
   "metadata": {
    "id": "W1ZVp_VOU7Wu"
   },
   "source": [
    "### Install TensorFlow ModelServer\n",
    "\n",
    "We use apt-get to fetch and install TensorFlow ModelServer"
   ]
  },
  {
   "cell_type": "code",
   "execution_count": 15,
   "metadata": {
    "colab": {
     "base_uri": "https://localhost:8080/"
    },
    "id": "ygwa9AgRloYy",
    "outputId": "cb64e9b7-87d9-49ea-80a7-20ee030b5bf5"
   },
   "outputs": [
    {
     "name": "stdout",
     "output_type": "stream",
     "text": [
      "Reading package lists... Done\n",
      "Building dependency tree       \n",
      "Reading state information... Done\n",
      "The following NEW packages will be installed:\n",
      "  tensorflow-model-server\n",
      "0 upgraded, 1 newly installed, 0 to remove and 21 not upgraded.\n",
      "Need to get 430 MB of archives.\n",
      "After this operation, 0 B of additional disk space will be used.\n",
      "Get:1 http://storage.googleapis.com/tensorflow-serving-apt stable/tensorflow-model-server amd64 tensorflow-model-server all 2.12.1 [430 MB]\n",
      "Fetched 430 MB in 15s (28.6 MB/s)\n",
      "Selecting previously unselected package tensorflow-model-server.\n",
      "(Reading database ... 123069 files and directories currently installed.)\n",
      "Preparing to unpack .../tensorflow-model-server_2.12.1_all.deb ...\n",
      "Unpacking tensorflow-model-server (2.12.1) ...\n",
      "Setting up tensorflow-model-server (2.12.1) ...\n"
     ]
    }
   ],
   "source": [
    "!apt-get install tensorflow-model-server"
   ]
  },
  {
   "cell_type": "markdown",
   "metadata": {
    "id": "k5NrYdQeVm52"
   },
   "source": [
    "### Start TensorFlow ModelServer\n",
    "\n",
    "This is where we start TensorFlow ModelServer and load our model.  After it loads we can start making inference requests using REST.  There are some important parameters:\n",
    "\n",
    "* `rest_api_port`: The port that you'll use for REST requests.\n",
    "* `model_name`: You'll use this in the URL of the REST requests.  It can be anything.\n",
    "* `model_base_path`: This is the path to the directory where you've saved your model.\n",
    "\n",
    "We need to define these as Python variables and as shell environment variables.  This will make this information available in Python code and in\n",
    "the shell where we will start the TensorFlow ModelServer process."
   ]
  },
  {
   "cell_type": "code",
   "execution_count": 18,
   "metadata": {
    "id": "aUgp3vUdU5GS"
   },
   "outputs": [],
   "source": [
    "# Define the environment variable where our saved model resides\n",
    "os.environ['MODEL_DIR'] = MODEL_DIR\n",
    "# Define the Python constant and environment variable to point to the port number used to access our model\n",
    "REST_PORT = '8501'\n",
    "os.environ['REST_PORT'] = REST_PORT\n",
    "# Define the Python constant and environment variable to point to the our model name.\n",
    "#  This is an abitrary name.\n",
    "MODEL_NAME = 'fashion_mnist'\n",
    "os.environ['MODEL_NAME'] = MODEL_NAME"
   ]
  },
  {
   "cell_type": "code",
   "execution_count": 19,
   "metadata": {
    "id": "kJDhHNJVnaLN"
   },
   "outputs": [],
   "source": [
    "# Run the shell command to launch tensorflow_model_server.  Output status and error\n",
    "#  messages to the file server.log\n",
    "%%bash --bg\n",
    "nohup tensorflow_model_server \\\n",
    "  --rest_api_port=\"${REST_PORT}\" \\\n",
    "  --model_name=\"${MODEL_NAME}\" \\\n",
    "  --model_base_path=\"${MODEL_DIR}\" >server.log 2>&1\n"
   ]
  },
  {
   "cell_type": "code",
   "execution_count": 20,
   "metadata": {
    "colab": {
     "base_uri": "https://localhost:8080/"
    },
    "id": "IxbeiOCUUs2z",
    "outputId": "e9b31186-4fba-4fc2-ec41-1b8002bd71fe"
   },
   "outputs": [
    {
     "name": "stdout",
     "output_type": "stream",
     "text": [
      "[warn] getaddrinfo: address family for nodename not supported\n",
      "[evhttp_server.cc : 245] NET_LOG: Entering the event loop ...\n"
     ]
    }
   ],
   "source": [
    "# Display the tail (last few lines) of the server log which will show any errors\n",
    "!tail server.log"
   ]
  },
  {
   "cell_type": "markdown",
   "metadata": {
    "id": "vwg1JKaGXWAg"
   },
   "source": [
    "### Function to display image with user defined title"
   ]
  },
  {
   "cell_type": "code",
   "execution_count": 21,
   "metadata": {
    "id": "Luqm_Jyff9iR"
   },
   "outputs": [],
   "source": [
    "def show_image(index, title, show_colorbar=False):\n",
    "  plt.figure()\n",
    "  plt.title('\\n\\n{}'.format(title), fontdict={'size': 16})\n",
    "  plt.imshow(test_images[index].reshape(28,28), cmap='gray')  # data is grayscale, but displays in color without cmap='gray'\n",
    "  if (show_colorbar):\n",
    "    plt.colorbar()\n",
    "  plt.axis('off')\n",
    "  plt.show()\n",
    "\n",
    "\n"
   ]
  },
  {
   "cell_type": "markdown",
   "metadata": {
    "id": "x-Cc6WAFf4eg"
   },
   "source": [
    "## Make a REST request to predict class of our example image\n",
    "\n",
    "\n"
   ]
  },
  {
   "cell_type": "code",
   "execution_count": 22,
   "metadata": {
    "id": "ReGh9AElrE4_"
   },
   "outputs": [],
   "source": [
    "!pip install -q requests    # Install the requests library which makes HTTP requests to the TensorFlow server\n",
    "                            # using our trained our model\n",
    "import requests     # import requests"
   ]
  },
  {
   "cell_type": "code",
   "execution_count": 23,
   "metadata": {
    "id": "3dJFAJ9LqXMk"
   },
   "outputs": [],
   "source": [
    "# Select a random image to classify\n",
    "import random\n",
    "image_index = random.randint(0,len(test_images)-1)\n"
   ]
  },
  {
   "cell_type": "code",
   "execution_count": 24,
   "metadata": {
    "id": "pll06kNWsCBF"
   },
   "outputs": [],
   "source": [
    " # Import json library and create the json data structure to be passed in the request.\n",
    "import json\n",
    "\n",
    "# The data is assumed to be a list of images, a 4D tensor of the shape [*,28,28,1].\n",
    "# Convert the single 3d to 4d\n",
    "check_images = np.reshape(test_images[image_index],(-1,28,28,1))\n",
    "\n",
    "# Construct json data passed to server.  \"instances\" will hold the image(s) we\n",
    "#   want the model to classify\n",
    "data = json.dumps({'signature_name': 'serving_default', 'instances': check_images.tolist()})"
   ]
  },
  {
   "cell_type": "code",
   "execution_count": 25,
   "metadata": {
    "colab": {
     "base_uri": "https://localhost:8080/",
     "height": 500
    },
    "id": "gelYGr-s2RXw",
    "outputId": "21f73cca-1b57-4c24-f776-58dea511dcb1"
   },
   "outputs": [
    {
     "data": {
      "image/png": "[encoded data removed]",
      "text/plain": [
       "<Figure size 640x480 with 1 Axes>"
      ]
     },
     "metadata": {},
     "output_type": "display_data"
    }
   ],
   "source": [
    "# Create the request\n",
    "\n",
    "# HTTP request header\n",
    "headers = {'content-type': 'application/json'}\n",
    "\n",
    "# Build the url to the service using the constants we defined earlier, should be of the form:\n",
    "#      http://localhost:8501/v1/models/fashion_mnist:predict\n",
    "predict_service_url = 'http://localhost:' + REST_PORT + '/v1/models/' + MODEL_NAME + ':predict'\n",
    "\n",
    "# Make request to the service.  Pass the headers and data.  Wait for the server's reponse.\n",
    "json_response = requests.post(predict_service_url, data=data, headers=headers)\n",
    "\n",
    "# Parse the response.  For each images we pass we get a list of probabilities\n",
    "predictions = json.loads(json_response.text)['predictions']\n",
    "# predictions[0] is the 10 probabilites for our first and only image.\n",
    "# predictions[0] has values in the form [0.1, 0.05, ...., 0.6]\n",
    "\n",
    "# The numpy argmax function returns the index of the highest value.  This is\n",
    "# the highest probabilty class predicted by our model.\n",
    "predicted_class = np.argmax(predictions[0])\n",
    "\n",
    "# Display image, the actual class and the predicted class\n",
    "show_image(image_index, 'Model predicted class: {} (class {}). \\n Actually class: {} (class {})'.format(\n",
    "  class_names[predicted_class], predicted_class, class_names[test_labels[image_index]], test_labels[image_index]))"
   ]
  },
  {
   "cell_type": "code",
   "execution_count": null,
   "metadata": {
    "id": "y0pKAlHie-Li"
   },
   "outputs": [],
   "source": []
  },
  {
   "cell_type": "markdown",
   "metadata": {
    "id": "7zQC5F--e_At"
   },
   "source": [
    "## BUilding NN as a Functional API with keras"
   ]
  },
  {
   "cell_type": "code",
   "execution_count": 26,
   "metadata": {
    "colab": {
     "base_uri": "https://localhost:8080/",
     "height": 1000
    },
    "id": "HjJxk8lcdK01",
    "outputId": "7ba64457-3187-43f1-9739-2970d43fe43d",
    "scrolled": false
   },
   "outputs": [
    {
     "name": "stdout",
     "output_type": "stream",
     "text": [
      "Model: \"model\"\n",
      "_________________________________________________________________\n",
      " Layer (type)                Output Shape              Param #   \n",
      "=================================================================\n",
      " input_1 (InputLayer)        [(None, 2)]               0         \n",
      "                                                                 \n",
      " Hidden-1 (Dense)            (None, 4)                 12        \n",
      "                                                                 \n",
      " Hidden-2 (Dense)            (None, 4)                 20        \n",
      "                                                                 \n",
      " Output_layer (Dense)        (None, 1)                 5         \n",
      "                                                                 \n",
      "=================================================================\n",
      "Total params: 37\n",
      "Trainable params: 37\n",
      "Non-trainable params: 0\n",
      "_________________________________________________________________\n"
     ]
    },
    {
     "name": "stderr",
     "output_type": "stream",
     "text": [
      "/usr/local/lib/python3.10/dist-packages/keras/optimizers/legacy/adam.py:117: UserWarning: The `lr` argument is deprecated, use `learning_rate` instead.\n",
      "  super().__init__(name, **kwargs)\n"
     ]
    },
    {
     "name": "stdout",
     "output_type": "stream",
     "text": [
      "Epoch 1/100\n",
      "19/22 [========================>.....] - ETA: 0s - loss: 0.6942 - accuracy: 0.5477 "
     ]
    },
    {
     "name": "stderr",
     "output_type": "stream",
     "text": [
      "WARNING:tensorflow:Early stopping conditioned on metric `val_acc` which is not available. Available metrics are: loss,accuracy,val_loss,val_accuracy\n"
     ]
    },
    {
     "name": "stdout",
     "output_type": "stream",
     "text": [
      "\b\b\b\b\b\b\b\b\b\b\b\b\b\b\b\b\b\b\b\b\b\b\b\b\b\b\b\b\b\b\b\b\b\b\b\b\b\b\b\b\b\b\b\b\b\b\b\b\b\b\b\b\b\b\b\b\b\b\b\b\b\b\b\b\b\b\b\b\b\b\b\b\b\b\b\b\b\b\b\b\b\b\r",
      "22/22 [==============================] - 1s 13ms/step - loss: 0.6932 - accuracy: 0.5443 - val_loss: 0.6756 - val_accuracy: 0.6467\n",
      "Epoch 2/100\n",
      "19/22 [========================>.....] - ETA: 0s - loss: 0.6638 - accuracy: 0.6086"
     ]
    },
    {
     "name": "stderr",
     "output_type": "stream",
     "text": [
      "WARNING:tensorflow:Early stopping conditioned on metric `val_acc` which is not available. Available metrics are: loss,accuracy,val_loss,val_accuracy\n"
     ]
    },
    {
     "name": "stdout",
     "output_type": "stream",
     "text": [
      "\b\b\b\b\b\b\b\b\b\b\b\b\b\b\b\b\b\b\b\b\b\b\b\b\b\b\b\b\b\b\b\b\b\b\b\b\b\b\b\b\b\b\b\b\b\b\b\b\b\b\b\b\b\b\b\b\b\b\b\b\b\b\b\b\b\b\b\b\b\b\b\b\b\b\b\b\b\b\b\b\b\b\r",
      "22/22 [==============================] - 0s 5ms/step - loss: 0.6642 - accuracy: 0.6043 - val_loss: 0.6414 - val_accuracy: 0.6567\n",
      "Epoch 3/100\n",
      "20/22 [==========================>...] - ETA: 0s - loss: 0.6127 - accuracy: 0.6625"
     ]
    },
    {
     "name": "stderr",
     "output_type": "stream",
     "text": [
      "WARNING:tensorflow:Early stopping conditioned on metric `val_acc` which is not available. Available metrics are: loss,accuracy,val_loss,val_accuracy\n"
     ]
    },
    {
     "name": "stdout",
     "output_type": "stream",
     "text": [
      "\b\b\b\b\b\b\b\b\b\b\b\b\b\b\b\b\b\b\b\b\b\b\b\b\b\b\b\b\b\b\b\b\b\b\b\b\b\b\b\b\b\b\b\b\b\b\b\b\b\b\b\b\b\b\b\b\b\b\b\b\b\b\b\b\b\b\b\b\b\b\b\b\b\b\b\b\b\b\b\b\b\b\r",
      "22/22 [==============================] - 0s 5ms/step - loss: 0.6086 - accuracy: 0.6743 - val_loss: 0.5618 - val_accuracy: 0.8033\n",
      "Epoch 4/100\n",
      "19/22 [========================>.....] - ETA: 0s - loss: 0.5104 - accuracy: 0.8010"
     ]
    },
    {
     "name": "stderr",
     "output_type": "stream",
     "text": [
      "WARNING:tensorflow:Early stopping conditioned on metric `val_acc` which is not available. Available metrics are: loss,accuracy,val_loss,val_accuracy\n"
     ]
    },
    {
     "name": "stdout",
     "output_type": "stream",
     "text": [
      "\b\b\b\b\b\b\b\b\b\b\b\b\b\b\b\b\b\b\b\b\b\b\b\b\b\b\b\b\b\b\b\b\b\b\b\b\b\b\b\b\b\b\b\b\b\b\b\b\b\b\b\b\b\b\b\b\b\b\b\b\b\b\b\b\b\b\b\b\b\b\b\b\b\b\b\b\b\b\b\b\b\b\r",
      "22/22 [==============================] - 0s 5ms/step - loss: 0.4957 - accuracy: 0.8200 - val_loss: 0.4359 - val_accuracy: 0.9033\n",
      "Epoch 5/100\n",
      "17/22 [======================>.......] - ETA: 0s - loss: 0.3794 - accuracy: 0.8676"
     ]
    },
    {
     "name": "stderr",
     "output_type": "stream",
     "text": [
      "WARNING:tensorflow:Early stopping conditioned on metric `val_acc` which is not available. Available metrics are: loss,accuracy,val_loss,val_accuracy\n"
     ]
    },
    {
     "name": "stdout",
     "output_type": "stream",
     "text": [
      "\b\b\b\b\b\b\b\b\b\b\b\b\b\b\b\b\b\b\b\b\b\b\b\b\b\b\b\b\b\b\b\b\b\b\b\b\b\b\b\b\b\b\b\b\b\b\b\b\b\b\b\b\b\b\b\b\b\b\b\b\b\b\b\b\b\b\b\b\b\b\b\b\b\b\b\b\b\b\b\b\b\b\r",
      "22/22 [==============================] - 0s 5ms/step - loss: 0.3842 - accuracy: 0.8571 - val_loss: 0.3197 - val_accuracy: 0.8933\n",
      "Epoch 6/100\n",
      "19/22 [========================>.....] - ETA: 0s - loss: 0.2625 - accuracy: 0.9293"
     ]
    },
    {
     "name": "stderr",
     "output_type": "stream",
     "text": [
      "WARNING:tensorflow:Early stopping conditioned on metric `val_acc` which is not available. Available metrics are: loss,accuracy,val_loss,val_accuracy\n"
     ]
    },
    {
     "name": "stdout",
     "output_type": "stream",
     "text": [
      "\b\b\b\b\b\b\b\b\b\b\b\b\b\b\b\b\b\b\b\b\b\b\b\b\b\b\b\b\b\b\b\b\b\b\b\b\b\b\b\b\b\b\b\b\b\b\b\b\b\b\b\b\b\b\b\b\b\b\b\b\b\b\b\b\b\b\b\b\b\b\b\b\b\b\b\b\b\b\b\b\b\b\r",
      "22/22 [==============================] - 0s 5ms/step - loss: 0.2582 - accuracy: 0.9286 - val_loss: 0.2623 - val_accuracy: 0.9167\n",
      "Epoch 7/100\n",
      "13/22 [================>.............] - ETA: 0s - loss: 0.2029 - accuracy: 0.9423"
     ]
    },
    {
     "name": "stderr",
     "output_type": "stream",
     "text": [
      "WARNING:tensorflow:Early stopping conditioned on metric `val_acc` which is not available. Available metrics are: loss,accuracy,val_loss,val_accuracy\n"
     ]
    },
    {
     "name": "stdout",
     "output_type": "stream",
     "text": [
      "\b\b\b\b\b\b\b\b\b\b\b\b\b\b\b\b\b\b\b\b\b\b\b\b\b\b\b\b\b\b\b\b\b\b\b\b\b\b\b\b\b\b\b\b\b\b\b\b\b\b\b\b\b\b\b\b\b\b\b\b\b\b\b\b\b\b\b\b\b\b\b\b\b\b\b\b\b\b\b\b\b\b\r",
      "22/22 [==============================] - 0s 6ms/step - loss: 0.1926 - accuracy: 0.9471 - val_loss: 0.2213 - val_accuracy: 0.9333\n",
      "Epoch 8/100\n",
      "19/22 [========================>.....] - ETA: 0s - loss: 0.1540 - accuracy: 0.9523"
     ]
    },
    {
     "name": "stderr",
     "output_type": "stream",
     "text": [
      "WARNING:tensorflow:Early stopping conditioned on metric `val_acc` which is not available. Available metrics are: loss,accuracy,val_loss,val_accuracy\n"
     ]
    },
    {
     "name": "stdout",
     "output_type": "stream",
     "text": [
      "\b\b\b\b\b\b\b\b\b\b\b\b\b\b\b\b\b\b\b\b\b\b\b\b\b\b\b\b\b\b\b\b\b\b\b\b\b\b\b\b\b\b\b\b\b\b\b\b\b\b\b\b\b\b\b\b\b\b\b\b\b\b\b\b\b\b\b\b\b\b\b\b\b\b\b\b\b\b\b\b\b\b\r",
      "22/22 [==============================] - 0s 5ms/step - loss: 0.1490 - accuracy: 0.9571 - val_loss: 0.1634 - val_accuracy: 0.9567\n",
      "Epoch 9/100\n",
      "19/22 [========================>.....] - ETA: 0s - loss: 0.1310 - accuracy: 0.9622"
     ]
    },
    {
     "name": "stderr",
     "output_type": "stream",
     "text": [
      "WARNING:tensorflow:Early stopping conditioned on metric `val_acc` which is not available. Available metrics are: loss,accuracy,val_loss,val_accuracy\n"
     ]
    },
    {
     "name": "stdout",
     "output_type": "stream",
     "text": [
      "\b\b\b\b\b\b\b\b\b\b\b\b\b\b\b\b\b\b\b\b\b\b\b\b\b\b\b\b\b\b\b\b\b\b\b\b\b\b\b\b\b\b\b\b\b\b\b\b\b\b\b\b\b\b\b\b\b\b\b\b\b\b\b\b\b\b\b\b\b\b\b\b\b\b\b\b\b\b\b\b\b\b\r",
      "22/22 [==============================] - 0s 5ms/step - loss: 0.1281 - accuracy: 0.9629 - val_loss: 0.1422 - val_accuracy: 0.9533\n",
      "Epoch 10/100\n",
      "19/22 [========================>.....] - ETA: 0s - loss: 0.0995 - accuracy: 0.9720"
     ]
    },
    {
     "name": "stderr",
     "output_type": "stream",
     "text": [
      "WARNING:tensorflow:Early stopping conditioned on metric `val_acc` which is not available. Available metrics are: loss,accuracy,val_loss,val_accuracy\n"
     ]
    },
    {
     "name": "stdout",
     "output_type": "stream",
     "text": [
      "\b\b\b\b\b\b\b\b\b\b\b\b\b\b\b\b\b\b\b\b\b\b\b\b\b\b\b\b\b\b\b\b\b\b\b\b\b\b\b\b\b\b\b\b\b\b\b\b\b\b\b\b\b\b\b\b\b\b\b\b\b\b\b\b\b\b\b\b\b\b\b\b\b\b\b\b\b\b\b\b\b\b\r",
      "22/22 [==============================] - 0s 5ms/step - loss: 0.1053 - accuracy: 0.9700 - val_loss: 0.2002 - val_accuracy: 0.9067\n",
      "Epoch 11/100\n",
      "19/22 [========================>.....] - ETA: 0s - loss: 0.1549 - accuracy: 0.9424"
     ]
    },
    {
     "name": "stderr",
     "output_type": "stream",
     "text": [
      "WARNING:tensorflow:Early stopping conditioned on metric `val_acc` which is not available. Available metrics are: loss,accuracy,val_loss,val_accuracy\n"
     ]
    },
    {
     "name": "stdout",
     "output_type": "stream",
     "text": [
      "\b\b\b\b\b\b\b\b\b\b\b\b\b\b\b\b\b\b\b\b\b\b\b\b\b\b\b\b\b\b\b\b\b\b\b\b\b\b\b\b\b\b\b\b\b\b\b\b\b\b\b\b\b\b\b\b\b\b\b\b\b\b\b\b\b\b\b\b\b\b\b\b\b\b\b\b\b\b\b\b\b\b\r",
      "22/22 [==============================] - 0s 5ms/step - loss: 0.1486 - accuracy: 0.9457 - val_loss: 0.1488 - val_accuracy: 0.9400\n",
      "Epoch 12/100\n",
      "16/22 [====================>.........] - ETA: 0s - loss: 0.1061 - accuracy: 0.9590"
     ]
    },
    {
     "name": "stderr",
     "output_type": "stream",
     "text": [
      "WARNING:tensorflow:Early stopping conditioned on metric `val_acc` which is not available. Available metrics are: loss,accuracy,val_loss,val_accuracy\n"
     ]
    },
    {
     "name": "stdout",
     "output_type": "stream",
     "text": [
      "\b\b\b\b\b\b\b\b\b\b\b\b\b\b\b\b\b\b\b\b\b\b\b\b\b\b\b\b\b\b\b\b\b\b\b\b\b\b\b\b\b\b\b\b\b\b\b\b\b\b\b\b\b\b\b\b\b\b\b\b\b\b\b\b\b\b\b\b\b\b\b\b\b\b\b\b\b\b\b\b\b\b\r",
      "22/22 [==============================] - 0s 5ms/step - loss: 0.0993 - accuracy: 0.9629 - val_loss: 0.1458 - val_accuracy: 0.9567\n",
      "Epoch 13/100\n",
      "19/22 [========================>.....] - ETA: 0s - loss: 0.0889 - accuracy: 0.9688"
     ]
    },
    {
     "name": "stderr",
     "output_type": "stream",
     "text": [
      "WARNING:tensorflow:Early stopping conditioned on metric `val_acc` which is not available. Available metrics are: loss,accuracy,val_loss,val_accuracy\n"
     ]
    },
    {
     "name": "stdout",
     "output_type": "stream",
     "text": [
      "\b\b\b\b\b\b\b\b\b\b\b\b\b\b\b\b\b\b\b\b\b\b\b\b\b\b\b\b\b\b\b\b\b\b\b\b\b\b\b\b\b\b\b\b\b\b\b\b\b\b\b\b\b\b\b\b\b\b\b\b\b\b\b\b\b\b\b\b\b\b\b\b\b\b\b\b\b\b\b\b\b\b\r",
      "22/22 [==============================] - 0s 5ms/step - loss: 0.0958 - accuracy: 0.9614 - val_loss: 0.1286 - val_accuracy: 0.9567\n",
      "Epoch 14/100\n",
      "17/22 [======================>.......] - ETA: 0s - loss: 0.1020 - accuracy: 0.9559"
     ]
    },
    {
     "name": "stderr",
     "output_type": "stream",
     "text": [
      "WARNING:tensorflow:Early stopping conditioned on metric `val_acc` which is not available. Available metrics are: loss,accuracy,val_loss,val_accuracy\n"
     ]
    },
    {
     "name": "stdout",
     "output_type": "stream",
     "text": [
      "\b\b\b\b\b\b\b\b\b\b\b\b\b\b\b\b\b\b\b\b\b\b\b\b\b\b\b\b\b\b\b\b\b\b\b\b\b\b\b\b\b\b\b\b\b\b\b\b\b\b\b\b\b\b\b\b\b\b\b\b\b\b\b\b\b\b\b\b\b\b\b\b\b\b\b\b\b\b\b\b\b\b\r",
      "22/22 [==============================] - 0s 5ms/step - loss: 0.1187 - accuracy: 0.9529 - val_loss: 0.1627 - val_accuracy: 0.9400\n",
      "Epoch 15/100\n",
      "20/22 [==========================>...] - ETA: 0s - loss: 0.1126 - accuracy: 0.9578"
     ]
    },
    {
     "name": "stderr",
     "output_type": "stream",
     "text": [
      "WARNING:tensorflow:Early stopping conditioned on metric `val_acc` which is not available. Available metrics are: loss,accuracy,val_loss,val_accuracy\n"
     ]
    },
    {
     "name": "stdout",
     "output_type": "stream",
     "text": [
      "\b\b\b\b\b\b\b\b\b\b\b\b\b\b\b\b\b\b\b\b\b\b\b\b\b\b\b\b\b\b\b\b\b\b\b\b\b\b\b\b\b\b\b\b\b\b\b\b\b\b\b\b\b\b\b\b\b\b\b\b\b\b\b\b\b\b\b\b\b\b\b\b\b\b\b\b\b\b\b\b\b\b\r",
      "22/22 [==============================] - 0s 6ms/step - loss: 0.1170 - accuracy: 0.9557 - val_loss: 0.1949 - val_accuracy: 0.9000\n",
      "Epoch 16/100\n",
      "20/22 [==========================>...] - ETA: 0s - loss: 0.0984 - accuracy: 0.9719"
     ]
    },
    {
     "name": "stderr",
     "output_type": "stream",
     "text": [
      "WARNING:tensorflow:Early stopping conditioned on metric `val_acc` which is not available. Available metrics are: loss,accuracy,val_loss,val_accuracy\n"
     ]
    },
    {
     "name": "stdout",
     "output_type": "stream",
     "text": [
      "\b\b\b\b\b\b\b\b\b\b\b\b\b\b\b\b\b\b\b\b\b\b\b\b\b\b\b\b\b\b\b\b\b\b\b\b\b\b\b\b\b\b\b\b\b\b\b\b\b\b\b\b\b\b\b\b\b\b\b\b\b\b\b\b\b\b\b\b\b\b\b\b\b\b\b\b\b\b\b\b\b\b\r",
      "22/22 [==============================] - 0s 5ms/step - loss: 0.0952 - accuracy: 0.9729 - val_loss: 0.1222 - val_accuracy: 0.9533\n",
      "Epoch 17/100\n",
      "19/22 [========================>.....] - ETA: 0s - loss: 0.0852 - accuracy: 0.9688"
     ]
    },
    {
     "name": "stderr",
     "output_type": "stream",
     "text": [
      "WARNING:tensorflow:Early stopping conditioned on metric `val_acc` which is not available. Available metrics are: loss,accuracy,val_loss,val_accuracy\n"
     ]
    },
    {
     "name": "stdout",
     "output_type": "stream",
     "text": [
      "\b\b\b\b\b\b\b\b\b\b\b\b\b\b\b\b\b\b\b\b\b\b\b\b\b\b\b\b\b\b\b\b\b\b\b\b\b\b\b\b\b\b\b\b\b\b\b\b\b\b\b\b\b\b\b\b\b\b\b\b\b\b\b\b\b\b\b\b\b\b\b\b\b\b\b\b\b\b\b\b\b\b\r",
      "22/22 [==============================] - 0s 5ms/step - loss: 0.0855 - accuracy: 0.9686 - val_loss: 0.1482 - val_accuracy: 0.9367\n",
      "Epoch 18/100\n",
      "19/22 [========================>.....] - ETA: 0s - loss: 0.0803 - accuracy: 0.9753"
     ]
    },
    {
     "name": "stderr",
     "output_type": "stream",
     "text": [
      "WARNING:tensorflow:Early stopping conditioned on metric `val_acc` which is not available. Available metrics are: loss,accuracy,val_loss,val_accuracy\n"
     ]
    },
    {
     "name": "stdout",
     "output_type": "stream",
     "text": [
      "\b\b\b\b\b\b\b\b\b\b\b\b\b\b\b\b\b\b\b\b\b\b\b\b\b\b\b\b\b\b\b\b\b\b\b\b\b\b\b\b\b\b\b\b\b\b\b\b\b\b\b\b\b\b\b\b\b\b\b\b\b\b\b\b\b\b\b\b\b\b\b\b\b\b\b\b\b\b\b\b\b\b\r",
      "22/22 [==============================] - 0s 5ms/step - loss: 0.0785 - accuracy: 0.9757 - val_loss: 0.1122 - val_accuracy: 0.9600\n",
      "Epoch 19/100\n",
      "19/22 [========================>.....] - ETA: 0s - loss: 0.0702 - accuracy: 0.9737"
     ]
    },
    {
     "name": "stderr",
     "output_type": "stream",
     "text": [
      "WARNING:tensorflow:Early stopping conditioned on metric `val_acc` which is not available. Available metrics are: loss,accuracy,val_loss,val_accuracy\n"
     ]
    },
    {
     "name": "stdout",
     "output_type": "stream",
     "text": [
      "\b\b\b\b\b\b\b\b\b\b\b\b\b\b\b\b\b\b\b\b\b\b\b\b\b\b\b\b\b\b\b\b\b\b\b\b\b\b\b\b\b\b\b\b\b\b\b\b\b\b\b\b\b\b\b\b\b\b\b\b\b\b\b\b\b\b\b\b\b\b\b\b\b\b\b\b\b\b\b\b\b\b\r",
      "22/22 [==============================] - 0s 5ms/step - loss: 0.0702 - accuracy: 0.9729 - val_loss: 0.1401 - val_accuracy: 0.9333\n",
      "Epoch 20/100\n",
      "19/22 [========================>.....] - ETA: 0s - loss: 0.0783 - accuracy: 0.9720"
     ]
    },
    {
     "name": "stderr",
     "output_type": "stream",
     "text": [
      "WARNING:tensorflow:Early stopping conditioned on metric `val_acc` which is not available. Available metrics are: loss,accuracy,val_loss,val_accuracy\n"
     ]
    },
    {
     "name": "stdout",
     "output_type": "stream",
     "text": [
      "\b\b\b\b\b\b\b\b\b\b\b\b\b\b\b\b\b\b\b\b\b\b\b\b\b\b\b\b\b\b\b\b\b\b\b\b\b\b\b\b\b\b\b\b\b\b\b\b\b\b\b\b\b\b\b\b\b\b\b\b\b\b\b\b\b\b\b\b\b\b\b\b\b\b\b\b\b\b\b\b\b\b\r",
      "22/22 [==============================] - 0s 5ms/step - loss: 0.0772 - accuracy: 0.9729 - val_loss: 0.1251 - val_accuracy: 0.9567\n",
      "Epoch 21/100\n",
      "19/22 [========================>.....] - ETA: 0s - loss: 0.0704 - accuracy: 0.9753"
     ]
    },
    {
     "name": "stderr",
     "output_type": "stream",
     "text": [
      "WARNING:tensorflow:Early stopping conditioned on metric `val_acc` which is not available. Available metrics are: loss,accuracy,val_loss,val_accuracy\n"
     ]
    },
    {
     "name": "stdout",
     "output_type": "stream",
     "text": [
      "\b\b\b\b\b\b\b\b\b\b\b\b\b\b\b\b\b\b\b\b\b\b\b\b\b\b\b\b\b\b\b\b\b\b\b\b\b\b\b\b\b\b\b\b\b\b\b\b\b\b\b\b\b\b\b\b\b\b\b\b\b\b\b\b\b\b\b\b\b\b\b\b\b\b\b\b\b\b\b\b\b\b\r",
      "22/22 [==============================] - 0s 6ms/step - loss: 0.0730 - accuracy: 0.9714 - val_loss: 0.1133 - val_accuracy: 0.9533\n",
      "Epoch 22/100\n",
      "17/22 [======================>.......] - ETA: 0s - loss: 0.0640 - accuracy: 0.9779"
     ]
    },
    {
     "name": "stderr",
     "output_type": "stream",
     "text": [
      "WARNING:tensorflow:Early stopping conditioned on metric `val_acc` which is not available. Available metrics are: loss,accuracy,val_loss,val_accuracy\n"
     ]
    },
    {
     "name": "stdout",
     "output_type": "stream",
     "text": [
      "\b\b\b\b\b\b\b\b\b\b\b\b\b\b\b\b\b\b\b\b\b\b\b\b\b\b\b\b\b\b\b\b\b\b\b\b\b\b\b\b\b\b\b\b\b\b\b\b\b\b\b\b\b\b\b\b\b\b\b\b\b\b\b\b\b\b\b\b\b\b\b\b\b\b\b\b\b\b\b\b\b\b\r",
      "22/22 [==============================] - 0s 6ms/step - loss: 0.0628 - accuracy: 0.9771 - val_loss: 0.1164 - val_accuracy: 0.9500\n",
      "Epoch 23/100\n",
      "19/22 [========================>.....] - ETA: 0s - loss: 0.0656 - accuracy: 0.9720"
     ]
    },
    {
     "name": "stderr",
     "output_type": "stream",
     "text": [
      "WARNING:tensorflow:Early stopping conditioned on metric `val_acc` which is not available. Available metrics are: loss,accuracy,val_loss,val_accuracy\n"
     ]
    },
    {
     "name": "stdout",
     "output_type": "stream",
     "text": [
      "\b\b\b\b\b\b\b\b\b\b\b\b\b\b\b\b\b\b\b\b\b\b\b\b\b\b\b\b\b\b\b\b\b\b\b\b\b\b\b\b\b\b\b\b\b\b\b\b\b\b\b\b\b\b\b\b\b\b\b\b\b\b\b\b\b\b\b\b\b\b\b\b\b\b\b\b\b\b\b\b\b\b\r",
      "22/22 [==============================] - 0s 7ms/step - loss: 0.0618 - accuracy: 0.9743 - val_loss: 0.1307 - val_accuracy: 0.9433\n",
      "Epoch 24/100\n",
      "19/22 [========================>.....] - ETA: 0s - loss: 0.0742 - accuracy: 0.9688"
     ]
    },
    {
     "name": "stderr",
     "output_type": "stream",
     "text": [
      "WARNING:tensorflow:Early stopping conditioned on metric `val_acc` which is not available. Available metrics are: loss,accuracy,val_loss,val_accuracy\n"
     ]
    },
    {
     "name": "stdout",
     "output_type": "stream",
     "text": [
      "\b\b\b\b\b\b\b\b\b\b\b\b\b\b\b\b\b\b\b\b\b\b\b\b\b\b\b\b\b\b\b\b\b\b\b\b\b\b\b\b\b\b\b\b\b\b\b\b\b\b\b\b\b\b\b\b\b\b\b\b\b\b\b\b\b\b\b\b\b\b\b\b\b\b\b\b\b\b\b\b\b\b\r",
      "22/22 [==============================] - 0s 5ms/step - loss: 0.0742 - accuracy: 0.9686 - val_loss: 0.1221 - val_accuracy: 0.9533\n",
      "Epoch 25/100\n",
      "18/22 [=======================>......] - ETA: 0s - loss: 0.0746 - accuracy: 0.9757"
     ]
    },
    {
     "name": "stderr",
     "output_type": "stream",
     "text": [
      "WARNING:tensorflow:Early stopping conditioned on metric `val_acc` which is not available. Available metrics are: loss,accuracy,val_loss,val_accuracy\n"
     ]
    },
    {
     "name": "stdout",
     "output_type": "stream",
     "text": [
      "\b\b\b\b\b\b\b\b\b\b\b\b\b\b\b\b\b\b\b\b\b\b\b\b\b\b\b\b\b\b\b\b\b\b\b\b\b\b\b\b\b\b\b\b\b\b\b\b\b\b\b\b\b\b\b\b\b\b\b\b\b\b\b\b\b\b\b\b\b\b\b\b\b\b\b\b\b\b\b\b\b\b\r",
      "22/22 [==============================] - 0s 5ms/step - loss: 0.0794 - accuracy: 0.9743 - val_loss: 0.1379 - val_accuracy: 0.9467\n",
      "Epoch 26/100\n",
      "15/22 [===================>..........] - ETA: 0s - loss: 0.0879 - accuracy: 0.9646"
     ]
    },
    {
     "name": "stderr",
     "output_type": "stream",
     "text": [
      "WARNING:tensorflow:Early stopping conditioned on metric `val_acc` which is not available. Available metrics are: loss,accuracy,val_loss,val_accuracy\n"
     ]
    },
    {
     "name": "stdout",
     "output_type": "stream",
     "text": [
      "\b\b\b\b\b\b\b\b\b\b\b\b\b\b\b\b\b\b\b\b\b\b\b\b\b\b\b\b\b\b\b\b\b\b\b\b\b\b\b\b\b\b\b\b\b\b\b\b\b\b\b\b\b\b\b\b\b\b\b\b\b\b\b\b\b\b\b\b\b\b\b\b\b\b\b\b\b\b\b\b\b\b\r",
      "22/22 [==============================] - 0s 6ms/step - loss: 0.0951 - accuracy: 0.9629 - val_loss: 0.1267 - val_accuracy: 0.9400\n",
      "Epoch 27/100\n",
      "18/22 [=======================>......] - ETA: 0s - loss: 0.0761 - accuracy: 0.9722"
     ]
    },
    {
     "name": "stderr",
     "output_type": "stream",
     "text": [
      "WARNING:tensorflow:Early stopping conditioned on metric `val_acc` which is not available. Available metrics are: loss,accuracy,val_loss,val_accuracy\n"
     ]
    },
    {
     "name": "stdout",
     "output_type": "stream",
     "text": [
      "\b\b\b\b\b\b\b\b\b\b\b\b\b\b\b\b\b\b\b\b\b\b\b\b\b\b\b\b\b\b\b\b\b\b\b\b\b\b\b\b\b\b\b\b\b\b\b\b\b\b\b\b\b\b\b\b\b\b\b\b\b\b\b\b\b\b\b\b\b\b\b\b\b\b\b\b\b\b\b\b\b\b\r",
      "22/22 [==============================] - 0s 5ms/step - loss: 0.0728 - accuracy: 0.9757 - val_loss: 0.1723 - val_accuracy: 0.9300\n",
      "Epoch 28/100\n",
      "19/22 [========================>.....] - ETA: 0s - loss: 0.0773 - accuracy: 0.9720"
     ]
    },
    {
     "name": "stderr",
     "output_type": "stream",
     "text": [
      "WARNING:tensorflow:Early stopping conditioned on metric `val_acc` which is not available. Available metrics are: loss,accuracy,val_loss,val_accuracy\n"
     ]
    },
    {
     "name": "stdout",
     "output_type": "stream",
     "text": [
      "\b\b\b\b\b\b\b\b\b\b\b\b\b\b\b\b\b\b\b\b\b\b\b\b\b\b\b\b\b\b\b\b\b\b\b\b\b\b\b\b\b\b\b\b\b\b\b\b\b\b\b\b\b\b\b\b\b\b\b\b\b\b\b\b\b\b\b\b\b\b\b\b\b\b\b\b\b\b\b\b\b\b\r",
      "22/22 [==============================] - 0s 5ms/step - loss: 0.0809 - accuracy: 0.9700 - val_loss: 0.1138 - val_accuracy: 0.9600\n",
      "Epoch 29/100\n",
      "18/22 [=======================>......] - ETA: 0s - loss: 0.0718 - accuracy: 0.9740"
     ]
    },
    {
     "name": "stderr",
     "output_type": "stream",
     "text": [
      "WARNING:tensorflow:Early stopping conditioned on metric `val_acc` which is not available. Available metrics are: loss,accuracy,val_loss,val_accuracy\n"
     ]
    },
    {
     "name": "stdout",
     "output_type": "stream",
     "text": [
      "\b\b\b\b\b\b\b\b\b\b\b\b\b\b\b\b\b\b\b\b\b\b\b\b\b\b\b\b\b\b\b\b\b\b\b\b\b\b\b\b\b\b\b\b\b\b\b\b\b\b\b\b\b\b\b\b\b\b\b\b\b\b\b\b\b\b\b\b\b\b\b\b\b\b\b\b\b\b\b\b\b\b\r",
      "22/22 [==============================] - 0s 5ms/step - loss: 0.0675 - accuracy: 0.9743 - val_loss: 0.1508 - val_accuracy: 0.9500\n",
      "Epoch 30/100\n",
      "18/22 [=======================>......] - ETA: 0s - loss: 0.0820 - accuracy: 0.9705"
     ]
    },
    {
     "name": "stderr",
     "output_type": "stream",
     "text": [
      "WARNING:tensorflow:Early stopping conditioned on metric `val_acc` which is not available. Available metrics are: loss,accuracy,val_loss,val_accuracy\n"
     ]
    },
    {
     "name": "stdout",
     "output_type": "stream",
     "text": [
      "\b\b\b\b\b\b\b\b\b\b\b\b\b\b\b\b\b\b\b\b\b\b\b\b\b\b\b\b\b\b\b\b\b\b\b\b\b\b\b\b\b\b\b\b\b\b\b\b\b\b\b\b\b\b\b\b\b\b\b\b\b\b\b\b\b\b\b\b\b\b\b\b\b\b\b\b\b\b\b\b\b\b\r",
      "22/22 [==============================] - 0s 5ms/step - loss: 0.0855 - accuracy: 0.9657 - val_loss: 0.1237 - val_accuracy: 0.9533\n",
      "Epoch 31/100\n",
      "20/22 [==========================>...] - ETA: 0s - loss: 0.0766 - accuracy: 0.9703"
     ]
    },
    {
     "name": "stderr",
     "output_type": "stream",
     "text": [
      "WARNING:tensorflow:Early stopping conditioned on metric `val_acc` which is not available. Available metrics are: loss,accuracy,val_loss,val_accuracy\n"
     ]
    },
    {
     "name": "stdout",
     "output_type": "stream",
     "text": [
      "\b\b\b\b\b\b\b\b\b\b\b\b\b\b\b\b\b\b\b\b\b\b\b\b\b\b\b\b\b\b\b\b\b\b\b\b\b\b\b\b\b\b\b\b\b\b\b\b\b\b\b\b\b\b\b\b\b\b\b\b\b\b\b\b\b\b\b\b\b\b\b\b\b\b\b\b\b\b\b\b\b\b\r",
      "22/22 [==============================] - 0s 5ms/step - loss: 0.0817 - accuracy: 0.9643 - val_loss: 0.1147 - val_accuracy: 0.9567\n",
      "Epoch 32/100\n",
      "13/22 [================>.............] - ETA: 0s - loss: 0.0614 - accuracy: 0.9808"
     ]
    },
    {
     "name": "stderr",
     "output_type": "stream",
     "text": [
      "WARNING:tensorflow:Early stopping conditioned on metric `val_acc` which is not available. Available metrics are: loss,accuracy,val_loss,val_accuracy\n"
     ]
    },
    {
     "name": "stdout",
     "output_type": "stream",
     "text": [
      "\b\b\b\b\b\b\b\b\b\b\b\b\b\b\b\b\b\b\b\b\b\b\b\b\b\b\b\b\b\b\b\b\b\b\b\b\b\b\b\b\b\b\b\b\b\b\b\b\b\b\b\b\b\b\b\b\b\b\b\b\b\b\b\b\b\b\b\b\b\b\b\b\b\b\b\b\b\b\b\b\b\b\r",
      "22/22 [==============================] - 0s 9ms/step - loss: 0.0716 - accuracy: 0.9729 - val_loss: 0.1199 - val_accuracy: 0.9500\n",
      "Epoch 33/100\n",
      "13/22 [================>.............] - ETA: 0s - loss: 0.0603 - accuracy: 0.9736"
     ]
    },
    {
     "name": "stderr",
     "output_type": "stream",
     "text": [
      "WARNING:tensorflow:Early stopping conditioned on metric `val_acc` which is not available. Available metrics are: loss,accuracy,val_loss,val_accuracy\n"
     ]
    },
    {
     "name": "stdout",
     "output_type": "stream",
     "text": [
      "\b\b\b\b\b\b\b\b\b\b\b\b\b\b\b\b\b\b\b\b\b\b\b\b\b\b\b\b\b\b\b\b\b\b\b\b\b\b\b\b\b\b\b\b\b\b\b\b\b\b\b\b\b\b\b\b\b\b\b\b\b\b\b\b\b\b\b\b\b\b\b\b\b\b\b\b\b\b\b\b\b\b\r",
      "22/22 [==============================] - 0s 9ms/step - loss: 0.0746 - accuracy: 0.9729 - val_loss: 0.1168 - val_accuracy: 0.9667\n",
      "Epoch 34/100\n",
      "14/22 [==================>...........] - ETA: 0s - loss: 0.0581 - accuracy: 0.9799"
     ]
    },
    {
     "name": "stderr",
     "output_type": "stream",
     "text": [
      "WARNING:tensorflow:Early stopping conditioned on metric `val_acc` which is not available. Available metrics are: loss,accuracy,val_loss,val_accuracy\n"
     ]
    },
    {
     "name": "stdout",
     "output_type": "stream",
     "text": [
      "\b\b\b\b\b\b\b\b\b\b\b\b\b\b\b\b\b\b\b\b\b\b\b\b\b\b\b\b\b\b\b\b\b\b\b\b\b\b\b\b\b\b\b\b\b\b\b\b\b\b\b\b\b\b\b\b\b\b\b\b\b\b\b\b\b\b\b\b\b\b\b\b\b\b\b\b\b\b\b\b\b\b\r",
      "22/22 [==============================] - 0s 9ms/step - loss: 0.0660 - accuracy: 0.9743 - val_loss: 0.1242 - val_accuracy: 0.9433\n",
      "Epoch 35/100\n",
      "19/22 [========================>.....] - ETA: 0s - loss: 0.0676 - accuracy: 0.9770"
     ]
    },
    {
     "name": "stderr",
     "output_type": "stream",
     "text": [
      "WARNING:tensorflow:Early stopping conditioned on metric `val_acc` which is not available. Available metrics are: loss,accuracy,val_loss,val_accuracy\n"
     ]
    },
    {
     "name": "stdout",
     "output_type": "stream",
     "text": [
      "\b\b\b\b\b\b\b\b\b\b\b\b\b\b\b\b\b\b\b\b\b\b\b\b\b\b\b\b\b\b\b\b\b\b\b\b\b\b\b\b\b\b\b\b\b\b\b\b\b\b\b\b\b\b\b\b\b\b\b\b\b\b\b\b\b\b\b\b\b\b\b\b\b\b\b\b\b\b\b\b\b\b\r",
      "22/22 [==============================] - 0s 11ms/step - loss: 0.0718 - accuracy: 0.9729 - val_loss: 0.1301 - val_accuracy: 0.9533\n",
      "Epoch 36/100\n",
      "13/22 [================>.............] - ETA: 0s - loss: 0.0673 - accuracy: 0.9736"
     ]
    },
    {
     "name": "stderr",
     "output_type": "stream",
     "text": [
      "WARNING:tensorflow:Early stopping conditioned on metric `val_acc` which is not available. Available metrics are: loss,accuracy,val_loss,val_accuracy\n"
     ]
    },
    {
     "name": "stdout",
     "output_type": "stream",
     "text": [
      "\b\b\b\b\b\b\b\b\b\b\b\b\b\b\b\b\b\b\b\b\b\b\b\b\b\b\b\b\b\b\b\b\b\b\b\b\b\b\b\b\b\b\b\b\b\b\b\b\b\b\b\b\b\b\b\b\b\b\b\b\b\b\b\b\b\b\b\b\b\b\b\b\b\b\b\b\b\b\b\b\b\b\r",
      "22/22 [==============================] - 0s 9ms/step - loss: 0.0820 - accuracy: 0.9700 - val_loss: 0.1376 - val_accuracy: 0.9333\n",
      "Epoch 37/100\n",
      "14/22 [==================>...........] - ETA: 0s - loss: 0.0713 - accuracy: 0.9665"
     ]
    },
    {
     "name": "stderr",
     "output_type": "stream",
     "text": [
      "WARNING:tensorflow:Early stopping conditioned on metric `val_acc` which is not available. Available metrics are: loss,accuracy,val_loss,val_accuracy\n"
     ]
    },
    {
     "name": "stdout",
     "output_type": "stream",
     "text": [
      "\b\b\b\b\b\b\b\b\b\b\b\b\b\b\b\b\b\b\b\b\b\b\b\b\b\b\b\b\b\b\b\b\b\b\b\b\b\b\b\b\b\b\b\b\b\b\b\b\b\b\b\b\b\b\b\b\b\b\b\b\b\b\b\b\b\b\b\b\b\b\b\b\b\b\b\b\b\b\b\b\b\b\r",
      "22/22 [==============================] - 0s 7ms/step - loss: 0.0778 - accuracy: 0.9657 - val_loss: 0.1171 - val_accuracy: 0.9533\n",
      "Epoch 38/100\n",
      "13/22 [================>.............] - ETA: 0s - loss: 0.0758 - accuracy: 0.9663"
     ]
    },
    {
     "name": "stderr",
     "output_type": "stream",
     "text": [
      "WARNING:tensorflow:Early stopping conditioned on metric `val_acc` which is not available. Available metrics are: loss,accuracy,val_loss,val_accuracy\n"
     ]
    },
    {
     "name": "stdout",
     "output_type": "stream",
     "text": [
      "\b\b\b\b\b\b\b\b\b\b\b\b\b\b\b\b\b\b\b\b\b\b\b\b\b\b\b\b\b\b\b\b\b\b\b\b\b\b\b\b\b\b\b\b\b\b\b\b\b\b\b\b\b\b\b\b\b\b\b\b\b\b\b\b\b\b\b\b\b\b\b\b\b\b\b\b\b\b\b\b\b\b\r",
      "22/22 [==============================] - 0s 8ms/step - loss: 0.0738 - accuracy: 0.9671 - val_loss: 0.1507 - val_accuracy: 0.9567\n",
      "Epoch 39/100\n",
      "12/22 [===============>..............] - ETA: 0s - loss: 0.0781 - accuracy: 0.9635"
     ]
    },
    {
     "name": "stderr",
     "output_type": "stream",
     "text": [
      "WARNING:tensorflow:Early stopping conditioned on metric `val_acc` which is not available. Available metrics are: loss,accuracy,val_loss,val_accuracy\n"
     ]
    },
    {
     "name": "stdout",
     "output_type": "stream",
     "text": [
      "\b\b\b\b\b\b\b\b\b\b\b\b\b\b\b\b\b\b\b\b\b\b\b\b\b\b\b\b\b\b\b\b\b\b\b\b\b\b\b\b\b\b\b\b\b\b\b\b\b\b\b\b\b\b\b\b\b\b\b\b\b\b\b\b\b\b\b\b\b\b\b\b\b\b\b\b\b\b\b\b\b\b\r",
      "22/22 [==============================] - 0s 9ms/step - loss: 0.0863 - accuracy: 0.9657 - val_loss: 0.1777 - val_accuracy: 0.9300\n",
      "Epoch 40/100\n",
      "14/22 [==================>...........] - ETA: 0s - loss: 0.0889 - accuracy: 0.9665"
     ]
    },
    {
     "name": "stderr",
     "output_type": "stream",
     "text": [
      "WARNING:tensorflow:Early stopping conditioned on metric `val_acc` which is not available. Available metrics are: loss,accuracy,val_loss,val_accuracy\n"
     ]
    },
    {
     "name": "stdout",
     "output_type": "stream",
     "text": [
      "\b\b\b\b\b\b\b\b\b\b\b\b\b\b\b\b\b\b\b\b\b\b\b\b\b\b\b\b\b\b\b\b\b\b\b\b\b\b\b\b\b\b\b\b\b\b\b\b\b\b\b\b\b\b\b\b\b\b\b\b\b\b\b\b\b\b\b\b\b\b\b\b\b\b\b\b\b\b\b\b\b\b\r",
      "22/22 [==============================] - 0s 9ms/step - loss: 0.0881 - accuracy: 0.9629 - val_loss: 0.1246 - val_accuracy: 0.9600\n",
      "Epoch 41/100\n",
      "12/22 [===============>..............] - ETA: 0s - loss: 0.0814 - accuracy: 0.9661"
     ]
    },
    {
     "name": "stderr",
     "output_type": "stream",
     "text": [
      "WARNING:tensorflow:Early stopping conditioned on metric `val_acc` which is not available. Available metrics are: loss,accuracy,val_loss,val_accuracy\n"
     ]
    },
    {
     "name": "stdout",
     "output_type": "stream",
     "text": [
      "\b\b\b\b\b\b\b\b\b\b\b\b\b\b\b\b\b\b\b\b\b\b\b\b\b\b\b\b\b\b\b\b\b\b\b\b\b\b\b\b\b\b\b\b\b\b\b\b\b\b\b\b\b\b\b\b\b\b\b\b\b\b\b\b\b\b\b\b\b\b\b\b\b\b\b\b\b\b\b\b\b\b\r",
      "22/22 [==============================] - 0s 9ms/step - loss: 0.1106 - accuracy: 0.9543 - val_loss: 0.1588 - val_accuracy: 0.9467\n",
      "Epoch 42/100\n",
      "21/22 [===========================>..] - ETA: 0s - loss: 0.1012 - accuracy: 0.9658"
     ]
    },
    {
     "name": "stderr",
     "output_type": "stream",
     "text": [
      "WARNING:tensorflow:Early stopping conditioned on metric `val_acc` which is not available. Available metrics are: loss,accuracy,val_loss,val_accuracy\n"
     ]
    },
    {
     "name": "stdout",
     "output_type": "stream",
     "text": [
      "\b\b\b\b\b\b\b\b\b\b\b\b\b\b\b\b\b\b\b\b\b\b\b\b\b\b\b\b\b\b\b\b\b\b\b\b\b\b\b\b\b\b\b\b\b\b\b\b\b\b\b\b\b\b\b\b\b\b\b\b\b\b\b\b\b\b\b\b\b\b\b\b\b\b\b\b\b\b\b\b\b\b\r",
      "22/22 [==============================] - 0s 10ms/step - loss: 0.1004 - accuracy: 0.9657 - val_loss: 0.1284 - val_accuracy: 0.9533\n",
      "Epoch 43/100\n",
      "13/22 [================>.............] - ETA: 0s - loss: 0.0810 - accuracy: 0.9688"
     ]
    },
    {
     "name": "stderr",
     "output_type": "stream",
     "text": [
      "WARNING:tensorflow:Early stopping conditioned on metric `val_acc` which is not available. Available metrics are: loss,accuracy,val_loss,val_accuracy\n"
     ]
    },
    {
     "name": "stdout",
     "output_type": "stream",
     "text": [
      "\b\b\b\b\b\b\b\b\b\b\b\b\b\b\b\b\b\b\b\b\b\b\b\b\b\b\b\b\b\b\b\b\b\b\b\b\b\b\b\b\b\b\b\b\b\b\b\b\b\b\b\b\b\b\b\b\b\b\b\b\b\b\b\b\b\b\b\b\b\b\b\b\b\b\b\b\b\b\b\b\b\b\r",
      "22/22 [==============================] - 0s 9ms/step - loss: 0.0709 - accuracy: 0.9729 - val_loss: 0.1368 - val_accuracy: 0.9500\n",
      "Epoch 44/100\n",
      "12/22 [===============>..............] - ETA: 0s - loss: 0.0648 - accuracy: 0.9740"
     ]
    },
    {
     "name": "stderr",
     "output_type": "stream",
     "text": [
      "WARNING:tensorflow:Early stopping conditioned on metric `val_acc` which is not available. Available metrics are: loss,accuracy,val_loss,val_accuracy\n"
     ]
    },
    {
     "name": "stdout",
     "output_type": "stream",
     "text": [
      "\b\b\b\b\b\b\b\b\b\b\b\b\b\b\b\b\b\b\b\b\b\b\b\b\b\b\b\b\b\b\b\b\b\b\b\b\b\b\b\b\b\b\b\b\b\b\b\b\b\b\b\b\b\b\b\b\b\b\b\b\b\b\b\b\b\b\b\b\b\b\b\b\b\b\b\b\b\b\b\b\b\b\r",
      "22/22 [==============================] - 0s 9ms/step - loss: 0.0703 - accuracy: 0.9700 - val_loss: 0.1269 - val_accuracy: 0.9400\n",
      "Epoch 45/100\n",
      "22/22 [==============================] - ETA: 0s - loss: 0.0629 - accuracy: 0.9771"
     ]
    },
    {
     "name": "stderr",
     "output_type": "stream",
     "text": [
      "WARNING:tensorflow:Early stopping conditioned on metric `val_acc` which is not available. Available metrics are: loss,accuracy,val_loss,val_accuracy\n"
     ]
    },
    {
     "name": "stdout",
     "output_type": "stream",
     "text": [
      "\b\b\b\b\b\b\b\b\b\b\b\b\b\b\b\b\b\b\b\b\b\b\b\b\b\b\b\b\b\b\b\b\b\b\b\b\b\b\b\b\b\b\b\b\b\b\b\b\b\b\b\b\b\b\b\b\b\b\b\b\b\b\b\b\b\b\b\b\b\b\b\b\b\b\b\b\b\b\b\b\b\b\r",
      "22/22 [==============================] - 0s 8ms/step - loss: 0.0629 - accuracy: 0.9771 - val_loss: 0.1224 - val_accuracy: 0.9467\n",
      "Epoch 46/100\n",
      "12/22 [===============>..............] - ETA: 0s - loss: 0.0498 - accuracy: 0.9844"
     ]
    },
    {
     "name": "stderr",
     "output_type": "stream",
     "text": [
      "WARNING:tensorflow:Early stopping conditioned on metric `val_acc` which is not available. Available metrics are: loss,accuracy,val_loss,val_accuracy\n"
     ]
    },
    {
     "name": "stdout",
     "output_type": "stream",
     "text": [
      "\b\b\b\b\b\b\b\b\b\b\b\b\b\b\b\b\b\b\b\b\b\b\b\b\b\b\b\b\b\b\b\b\b\b\b\b\b\b\b\b\b\b\b\b\b\b\b\b\b\b\b\b\b\b\b\b\b\b\b\b\b\b\b\b\b\b\b\b\b\b\b\b\b\b\b\b\b\b\b\b\b\b\r",
      "22/22 [==============================] - 0s 9ms/step - loss: 0.0673 - accuracy: 0.9814 - val_loss: 0.1173 - val_accuracy: 0.9567\n",
      "Epoch 47/100\n",
      "11/22 [==============>...............] - ETA: 0s - loss: 0.0940 - accuracy: 0.9631"
     ]
    },
    {
     "name": "stderr",
     "output_type": "stream",
     "text": [
      "WARNING:tensorflow:Early stopping conditioned on metric `val_acc` which is not available. Available metrics are: loss,accuracy,val_loss,val_accuracy\n"
     ]
    },
    {
     "name": "stdout",
     "output_type": "stream",
     "text": [
      "\b\b\b\b\b\b\b\b\b\b\b\b\b\b\b\b\b\b\b\b\b\b\b\b\b\b\b\b\b\b\b\b\b\b\b\b\b\b\b\b\b\b\b\b\b\b\b\b\b\b\b\b\b\b\b\b\b\b\b\b\b\b\b\b\b\b\b\b\b\b\b\b\b\b\b\b\b\b\b\b\b\b\r",
      "22/22 [==============================] - 0s 9ms/step - loss: 0.0914 - accuracy: 0.9614 - val_loss: 0.1708 - val_accuracy: 0.9333\n",
      "Epoch 48/100\n",
      "13/22 [================>.............] - ETA: 0s - loss: 0.1183 - accuracy: 0.9519"
     ]
    },
    {
     "name": "stderr",
     "output_type": "stream",
     "text": [
      "WARNING:tensorflow:Early stopping conditioned on metric `val_acc` which is not available. Available metrics are: loss,accuracy,val_loss,val_accuracy\n"
     ]
    },
    {
     "name": "stdout",
     "output_type": "stream",
     "text": [
      "\b\b\b\b\b\b\b\b\b\b\b\b\b\b\b\b\b\b\b\b\b\b\b\b\b\b\b\b\b\b\b\b\b\b\b\b\b\b\b\b\b\b\b\b\b\b\b\b\b\b\b\b\b\b\b\b\b\b\b\b\b\b\b\b\b\b\b\b\b\b\b\b\b\b\b\b\b\b\b\b\b\b\r",
      "22/22 [==============================] - 0s 8ms/step - loss: 0.1162 - accuracy: 0.9557 - val_loss: 0.1518 - val_accuracy: 0.9400\n",
      "Epoch 49/100\n",
      "12/22 [===============>..............] - ETA: 0s - loss: 0.0976 - accuracy: 0.9609"
     ]
    },
    {
     "name": "stderr",
     "output_type": "stream",
     "text": [
      "WARNING:tensorflow:Early stopping conditioned on metric `val_acc` which is not available. Available metrics are: loss,accuracy,val_loss,val_accuracy\n"
     ]
    },
    {
     "name": "stdout",
     "output_type": "stream",
     "text": [
      "\b\b\b\b\b\b\b\b\b\b\b\b\b\b\b\b\b\b\b\b\b\b\b\b\b\b\b\b\b\b\b\b\b\b\b\b\b\b\b\b\b\b\b\b\b\b\b\b\b\b\b\b\b\b\b\b\b\b\b\b\b\b\b\b\b\b\b\b\b\b\b\b\b\b\b\b\b\b\b\b\b\b\r",
      "22/22 [==============================] - 0s 9ms/step - loss: 0.1016 - accuracy: 0.9600 - val_loss: 0.1223 - val_accuracy: 0.9500\n",
      "Epoch 50/100\n",
      "12/22 [===============>..............] - ETA: 0s - loss: 0.0747 - accuracy: 0.9635"
     ]
    },
    {
     "name": "stderr",
     "output_type": "stream",
     "text": [
      "WARNING:tensorflow:Early stopping conditioned on metric `val_acc` which is not available. Available metrics are: loss,accuracy,val_loss,val_accuracy\n"
     ]
    },
    {
     "name": "stdout",
     "output_type": "stream",
     "text": [
      "\b\b\b\b\b\b\b\b\b\b\b\b\b\b\b\b\b\b\b\b\b\b\b\b\b\b\b\b\b\b\b\b\b\b\b\b\b\b\b\b\b\b\b\b\b\b\b\b\b\b\b\b\b\b\b\b\b\b\b\b\b\b\b\b\b\b\b\b\b\b\b\b\b\b\b\b\b\b\b\b\b\b\r",
      "22/22 [==============================] - 0s 9ms/step - loss: 0.0880 - accuracy: 0.9586 - val_loss: 0.1423 - val_accuracy: 0.9533\n",
      "Epoch 51/100\n",
      "13/22 [================>.............] - ETA: 0s - loss: 0.0918 - accuracy: 0.9615"
     ]
    },
    {
     "name": "stderr",
     "output_type": "stream",
     "text": [
      "WARNING:tensorflow:Early stopping conditioned on metric `val_acc` which is not available. Available metrics are: loss,accuracy,val_loss,val_accuracy\n"
     ]
    },
    {
     "name": "stdout",
     "output_type": "stream",
     "text": [
      "\b\b\b\b\b\b\b\b\b\b\b\b\b\b\b\b\b\b\b\b\b\b\b\b\b\b\b\b\b\b\b\b\b\b\b\b\b\b\b\b\b\b\b\b\b\b\b\b\b\b\b\b\b\b\b\b\b\b\b\b\b\b\b\b\b\b\b\b\b\b\b\b\b\b\b\b\b\b\b\b\b\b\r",
      "22/22 [==============================] - 0s 9ms/step - loss: 0.0767 - accuracy: 0.9686 - val_loss: 0.1532 - val_accuracy: 0.9467\n",
      "Epoch 52/100\n",
      "20/22 [==========================>...] - ETA: 0s - loss: 0.0737 - accuracy: 0.9703"
     ]
    },
    {
     "name": "stderr",
     "output_type": "stream",
     "text": [
      "WARNING:tensorflow:Early stopping conditioned on metric `val_acc` which is not available. Available metrics are: loss,accuracy,val_loss,val_accuracy\n"
     ]
    },
    {
     "name": "stdout",
     "output_type": "stream",
     "text": [
      "\b\b\b\b\b\b\b\b\b\b\b\b\b\b\b\b\b\b\b\b\b\b\b\b\b\b\b\b\b\b\b\b\b\b\b\b\b\b\b\b\b\b\b\b\b\b\b\b\b\b\b\b\b\b\b\b\b\b\b\b\b\b\b\b\b\b\b\b\b\b\b\b\b\b\b\b\b\b\b\b\b\b\r",
      "22/22 [==============================] - 0s 9ms/step - loss: 0.0684 - accuracy: 0.9729 - val_loss: 0.1540 - val_accuracy: 0.9467\n",
      "Epoch 53/100\n",
      "14/22 [==================>...........] - ETA: 0s - loss: 0.0743 - accuracy: 0.9732"
     ]
    },
    {
     "name": "stderr",
     "output_type": "stream",
     "text": [
      "WARNING:tensorflow:Early stopping conditioned on metric `val_acc` which is not available. Available metrics are: loss,accuracy,val_loss,val_accuracy\n"
     ]
    },
    {
     "name": "stdout",
     "output_type": "stream",
     "text": [
      "\b\b\b\b\b\b\b\b\b\b\b\b\b\b\b\b\b\b\b\b\b\b\b\b\b\b\b\b\b\b\b\b\b\b\b\b\b\b\b\b\b\b\b\b\b\b\b\b\b\b\b\b\b\b\b\b\b\b\b\b\b\b\b\b\b\b\b\b\b\b\b\b\b\b\b\b\b\b\b\b\b\b\r",
      "22/22 [==============================] - 0s 9ms/step - loss: 0.0727 - accuracy: 0.9686 - val_loss: 0.1125 - val_accuracy: 0.9533\n",
      "Epoch 54/100\n",
      "13/22 [================>.............] - ETA: 0s - loss: 0.0688 - accuracy: 0.9712"
     ]
    },
    {
     "name": "stderr",
     "output_type": "stream",
     "text": [
      "WARNING:tensorflow:Early stopping conditioned on metric `val_acc` which is not available. Available metrics are: loss,accuracy,val_loss,val_accuracy\n"
     ]
    },
    {
     "name": "stdout",
     "output_type": "stream",
     "text": [
      "\b\b\b\b\b\b\b\b\b\b\b\b\b\b\b\b\b\b\b\b\b\b\b\b\b\b\b\b\b\b\b\b\b\b\b\b\b\b\b\b\b\b\b\b\b\b\b\b\b\b\b\b\b\b\b\b\b\b\b\b\b\b\b\b\b\b\b\b\b\b\b\b\b\b\b\b\b\b\b\b\b\b\r",
      "22/22 [==============================] - 0s 9ms/step - loss: 0.0728 - accuracy: 0.9700 - val_loss: 0.1174 - val_accuracy: 0.9567\n",
      "Epoch 55/100\n",
      "13/22 [================>.............] - ETA: 0s - loss: 0.0916 - accuracy: 0.9615"
     ]
    },
    {
     "name": "stderr",
     "output_type": "stream",
     "text": [
      "WARNING:tensorflow:Early stopping conditioned on metric `val_acc` which is not available. Available metrics are: loss,accuracy,val_loss,val_accuracy\n"
     ]
    },
    {
     "name": "stdout",
     "output_type": "stream",
     "text": [
      "\b\b\b\b\b\b\b\b\b\b\b\b\b\b\b\b\b\b\b\b\b\b\b\b\b\b\b\b\b\b\b\b\b\b\b\b\b\b\b\b\b\b\b\b\b\b\b\b\b\b\b\b\b\b\b\b\b\b\b\b\b\b\b\b\b\b\b\b\b\b\b\b\b\b\b\b\b\b\b\b\b\b\r",
      "22/22 [==============================] - 0s 9ms/step - loss: 0.0936 - accuracy: 0.9614 - val_loss: 0.2182 - val_accuracy: 0.9100\n",
      "Epoch 56/100\n",
      "12/22 [===============>..............] - ETA: 0s - loss: 0.0803 - accuracy: 0.9661"
     ]
    },
    {
     "name": "stderr",
     "output_type": "stream",
     "text": [
      "WARNING:tensorflow:Early stopping conditioned on metric `val_acc` which is not available. Available metrics are: loss,accuracy,val_loss,val_accuracy\n"
     ]
    },
    {
     "name": "stdout",
     "output_type": "stream",
     "text": [
      "\b\b\b\b\b\b\b\b\b\b\b\b\b\b\b\b\b\b\b\b\b\b\b\b\b\b\b\b\b\b\b\b\b\b\b\b\b\b\b\b\b\b\b\b\b\b\b\b\b\b\b\b\b\b\b\b\b\b\b\b\b\b\b\b\b\b\b\b\b\b\b\b\b\b\b\b\b\b\b\b\b\b\r",
      "22/22 [==============================] - 0s 8ms/step - loss: 0.0841 - accuracy: 0.9657 - val_loss: 0.1301 - val_accuracy: 0.9433\n",
      "Epoch 57/100\n",
      "12/22 [===============>..............] - ETA: 0s - loss: 0.0600 - accuracy: 0.9792"
     ]
    },
    {
     "name": "stderr",
     "output_type": "stream",
     "text": [
      "WARNING:tensorflow:Early stopping conditioned on metric `val_acc` which is not available. Available metrics are: loss,accuracy,val_loss,val_accuracy\n"
     ]
    },
    {
     "name": "stdout",
     "output_type": "stream",
     "text": [
      "\b\b\b\b\b\b\b\b\b\b\b\b\b\b\b\b\b\b\b\b\b\b\b\b\b\b\b\b\b\b\b\b\b\b\b\b\b\b\b\b\b\b\b\b\b\b\b\b\b\b\b\b\b\b\b\b\b\b\b\b\b\b\b\b\b\b\b\b\b\b\b\b\b\b\b\b\b\b\b\b\b\b\r",
      "22/22 [==============================] - 0s 8ms/step - loss: 0.0742 - accuracy: 0.9700 - val_loss: 0.1165 - val_accuracy: 0.9500\n",
      "Epoch 58/100\n",
      "13/22 [================>.............] - ETA: 0s - loss: 0.0850 - accuracy: 0.9663"
     ]
    },
    {
     "name": "stderr",
     "output_type": "stream",
     "text": [
      "WARNING:tensorflow:Early stopping conditioned on metric `val_acc` which is not available. Available metrics are: loss,accuracy,val_loss,val_accuracy\n"
     ]
    },
    {
     "name": "stdout",
     "output_type": "stream",
     "text": [
      "\b\b\b\b\b\b\b\b\b\b\b\b\b\b\b\b\b\b\b\b\b\b\b\b\b\b\b\b\b\b\b\b\b\b\b\b\b\b\b\b\b\b\b\b\b\b\b\b\b\b\b\b\b\b\b\b\b\b\b\b\b\b\b\b\b\b\b\b\b\b\b\b\b\b\b\b\b\b\b\b\b\b\r",
      "22/22 [==============================] - 0s 9ms/step - loss: 0.0700 - accuracy: 0.9714 - val_loss: 0.1112 - val_accuracy: 0.9567\n",
      "Epoch 59/100\n",
      "21/22 [===========================>..] - ETA: 0s - loss: 0.0589 - accuracy: 0.9717"
     ]
    },
    {
     "name": "stderr",
     "output_type": "stream",
     "text": [
      "WARNING:tensorflow:Early stopping conditioned on metric `val_acc` which is not available. Available metrics are: loss,accuracy,val_loss,val_accuracy\n"
     ]
    },
    {
     "name": "stdout",
     "output_type": "stream",
     "text": [
      "\b\b\b\b\b\b\b\b\b\b\b\b\b\b\b\b\b\b\b\b\b\b\b\b\b\b\b\b\b\b\b\b\b\b\b\b\b\b\b\b\b\b\b\b\b\b\b\b\b\b\b\b\b\b\b\b\b\b\b\b\b\b\b\b\b\b\b\b\b\b\b\b\b\b\b\b\b\b\b\b\b\b\r",
      "22/22 [==============================] - 0s 10ms/step - loss: 0.0570 - accuracy: 0.9729 - val_loss: 0.1210 - val_accuracy: 0.9467\n",
      "Epoch 60/100\n",
      "12/22 [===============>..............] - ETA: 0s - loss: 0.0620 - accuracy: 0.9714"
     ]
    },
    {
     "name": "stderr",
     "output_type": "stream",
     "text": [
      "WARNING:tensorflow:Early stopping conditioned on metric `val_acc` which is not available. Available metrics are: loss,accuracy,val_loss,val_accuracy\n"
     ]
    },
    {
     "name": "stdout",
     "output_type": "stream",
     "text": [
      "\b\b\b\b\b\b\b\b\b\b\b\b\b\b\b\b\b\b\b\b\b\b\b\b\b\b\b\b\b\b\b\b\b\b\b\b\b\b\b\b\b\b\b\b\b\b\b\b\b\b\b\b\b\b\b\b\b\b\b\b\b\b\b\b\b\b\b\b\b\b\b\b\b\b\b\b\b\b\b\b\b\b\r",
      "22/22 [==============================] - 0s 8ms/step - loss: 0.0555 - accuracy: 0.9743 - val_loss: 0.1432 - val_accuracy: 0.9467\n",
      "Epoch 61/100\n",
      "11/22 [==============>...............] - ETA: 0s - loss: 0.0667 - accuracy: 0.9744"
     ]
    },
    {
     "name": "stderr",
     "output_type": "stream",
     "text": [
      "WARNING:tensorflow:Early stopping conditioned on metric `val_acc` which is not available. Available metrics are: loss,accuracy,val_loss,val_accuracy\n"
     ]
    },
    {
     "name": "stdout",
     "output_type": "stream",
     "text": [
      "\b\b\b\b\b\b\b\b\b\b\b\b\b\b\b\b\b\b\b\b\b\b\b\b\b\b\b\b\b\b\b\b\b\b\b\b\b\b\b\b\b\b\b\b\b\b\b\b\b\b\b\b\b\b\b\b\b\b\b\b\b\b\b\b\b\b\b\b\b\b\b\b\b\b\b\b\b\b\b\b\b\b\r",
      "22/22 [==============================] - 0s 9ms/step - loss: 0.0685 - accuracy: 0.9686 - val_loss: 0.1468 - val_accuracy: 0.9500\n",
      "Epoch 62/100\n",
      "21/22 [===========================>..] - ETA: 0s - loss: 0.0882 - accuracy: 0.9673"
     ]
    },
    {
     "name": "stderr",
     "output_type": "stream",
     "text": [
      "WARNING:tensorflow:Early stopping conditioned on metric `val_acc` which is not available. Available metrics are: loss,accuracy,val_loss,val_accuracy\n"
     ]
    },
    {
     "name": "stdout",
     "output_type": "stream",
     "text": [
      "\b\b\b\b\b\b\b\b\b\b\b\b\b\b\b\b\b\b\b\b\b\b\b\b\b\b\b\b\b\b\b\b\b\b\b\b\b\b\b\b\b\b\b\b\b\b\b\b\b\b\b\b\b\b\b\b\b\b\b\b\b\b\b\b\b\b\b\b\b\b\b\b\b\b\b\b\b\b\b\b\b\b\r",
      "22/22 [==============================] - 0s 10ms/step - loss: 0.0863 - accuracy: 0.9671 - val_loss: 0.1407 - val_accuracy: 0.9533\n",
      "Epoch 63/100\n",
      "11/22 [==============>...............] - ETA: 0s - loss: 0.0717 - accuracy: 0.9716"
     ]
    },
    {
     "name": "stderr",
     "output_type": "stream",
     "text": [
      "WARNING:tensorflow:Early stopping conditioned on metric `val_acc` which is not available. Available metrics are: loss,accuracy,val_loss,val_accuracy\n"
     ]
    },
    {
     "name": "stdout",
     "output_type": "stream",
     "text": [
      "\b\b\b\b\b\b\b\b\b\b\b\b\b\b\b\b\b\b\b\b\b\b\b\b\b\b\b\b\b\b\b\b\b\b\b\b\b\b\b\b\b\b\b\b\b\b\b\b\b\b\b\b\b\b\b\b\b\b\b\b\b\b\b\b\b\b\b\b\b\b\b\b\b\b\b\b\b\b\b\b\b\b\r",
      "22/22 [==============================] - 0s 9ms/step - loss: 0.0693 - accuracy: 0.9714 - val_loss: 0.1457 - val_accuracy: 0.9500\n",
      "Epoch 64/100\n",
      "19/22 [========================>.....] - ETA: 0s - loss: 0.0615 - accuracy: 0.9688"
     ]
    },
    {
     "name": "stderr",
     "output_type": "stream",
     "text": [
      "WARNING:tensorflow:Early stopping conditioned on metric `val_acc` which is not available. Available metrics are: loss,accuracy,val_loss,val_accuracy\n"
     ]
    },
    {
     "name": "stdout",
     "output_type": "stream",
     "text": [
      "\b\b\b\b\b\b\b\b\b\b\b\b\b\b\b\b\b\b\b\b\b\b\b\b\b\b\b\b\b\b\b\b\b\b\b\b\b\b\b\b\b\b\b\b\b\b\b\b\b\b\b\b\b\b\b\b\b\b\b\b\b\b\b\b\b\b\b\b\b\b\b\b\b\b\b\b\b\b\b\b\b\b\r",
      "22/22 [==============================] - 0s 10ms/step - loss: 0.0551 - accuracy: 0.9729 - val_loss: 0.1115 - val_accuracy: 0.9500\n",
      "Epoch 65/100\n",
      "11/22 [==============>...............] - ETA: 0s - loss: 0.0550 - accuracy: 0.9801"
     ]
    },
    {
     "name": "stderr",
     "output_type": "stream",
     "text": [
      "WARNING:tensorflow:Early stopping conditioned on metric `val_acc` which is not available. Available metrics are: loss,accuracy,val_loss,val_accuracy\n"
     ]
    },
    {
     "name": "stdout",
     "output_type": "stream",
     "text": [
      "\b\b\b\b\b\b\b\b\b\b\b\b\b\b\b\b\b\b\b\b\b\b\b\b\b\b\b\b\b\b\b\b\b\b\b\b\b\b\b\b\b\b\b\b\b\b\b\b\b\b\b\b\b\b\b\b\b\b\b\b\b\b\b\b\b\b\b\b\b\b\b\b\b\b\b\b\b\b\b\b\b\b\r",
      "22/22 [==============================] - 0s 7ms/step - loss: 0.0546 - accuracy: 0.9800 - val_loss: 0.1156 - val_accuracy: 0.9467\n",
      "Epoch 66/100\n",
      "18/22 [=======================>......] - ETA: 0s - loss: 0.0546 - accuracy: 0.9774"
     ]
    },
    {
     "name": "stderr",
     "output_type": "stream",
     "text": [
      "WARNING:tensorflow:Early stopping conditioned on metric `val_acc` which is not available. Available metrics are: loss,accuracy,val_loss,val_accuracy\n"
     ]
    },
    {
     "name": "stdout",
     "output_type": "stream",
     "text": [
      "\b\b\b\b\b\b\b\b\b\b\b\b\b\b\b\b\b\b\b\b\b\b\b\b\b\b\b\b\b\b\b\b\b\b\b\b\b\b\b\b\b\b\b\b\b\b\b\b\b\b\b\b\b\b\b\b\b\b\b\b\b\b\b\b\b\b\b\b\b\b\b\b\b\b\b\b\b\b\b\b\b\b\r",
      "22/22 [==============================] - 0s 5ms/step - loss: 0.0690 - accuracy: 0.9714 - val_loss: 0.1929 - val_accuracy: 0.9433\n",
      "Epoch 67/100\n",
      "18/22 [=======================>......] - ETA: 0s - loss: 0.1178 - accuracy: 0.9531"
     ]
    },
    {
     "name": "stderr",
     "output_type": "stream",
     "text": [
      "WARNING:tensorflow:Early stopping conditioned on metric `val_acc` which is not available. Available metrics are: loss,accuracy,val_loss,val_accuracy\n"
     ]
    },
    {
     "name": "stdout",
     "output_type": "stream",
     "text": [
      "\b\b\b\b\b\b\b\b\b\b\b\b\b\b\b\b\b\b\b\b\b\b\b\b\b\b\b\b\b\b\b\b\b\b\b\b\b\b\b\b\b\b\b\b\b\b\b\b\b\b\b\b\b\b\b\b\b\b\b\b\b\b\b\b\b\b\b\b\b\b\b\b\b\b\b\b\b\b\b\b\b\b\r",
      "22/22 [==============================] - 0s 5ms/step - loss: 0.1127 - accuracy: 0.9571 - val_loss: 0.1698 - val_accuracy: 0.9300\n",
      "Epoch 68/100\n",
      "17/22 [======================>.......] - ETA: 0s - loss: 0.0969 - accuracy: 0.9614"
     ]
    },
    {
     "name": "stderr",
     "output_type": "stream",
     "text": [
      "WARNING:tensorflow:Early stopping conditioned on metric `val_acc` which is not available. Available metrics are: loss,accuracy,val_loss,val_accuracy\n"
     ]
    },
    {
     "name": "stdout",
     "output_type": "stream",
     "text": [
      "\b\b\b\b\b\b\b\b\b\b\b\b\b\b\b\b\b\b\b\b\b\b\b\b\b\b\b\b\b\b\b\b\b\b\b\b\b\b\b\b\b\b\b\b\b\b\b\b\b\b\b\b\b\b\b\b\b\b\b\b\b\b\b\b\b\b\b\b\b\b\b\b\b\b\b\b\b\b\b\b\b\b\r",
      "22/22 [==============================] - 0s 7ms/step - loss: 0.0833 - accuracy: 0.9671 - val_loss: 0.2086 - val_accuracy: 0.9267\n",
      "Epoch 69/100\n",
      "17/22 [======================>.......] - ETA: 0s - loss: 0.0643 - accuracy: 0.9798"
     ]
    },
    {
     "name": "stderr",
     "output_type": "stream",
     "text": [
      "WARNING:tensorflow:Early stopping conditioned on metric `val_acc` which is not available. Available metrics are: loss,accuracy,val_loss,val_accuracy\n"
     ]
    },
    {
     "name": "stdout",
     "output_type": "stream",
     "text": [
      "\b\b\b\b\b\b\b\b\b\b\b\b\b\b\b\b\b\b\b\b\b\b\b\b\b\b\b\b\b\b\b\b\b\b\b\b\b\b\b\b\b\b\b\b\b\b\b\b\b\b\b\b\b\b\b\b\b\b\b\b\b\b\b\b\b\b\b\b\b\b\b\b\b\b\b\b\b\b\b\b\b\b\r",
      "22/22 [==============================] - 0s 6ms/step - loss: 0.0633 - accuracy: 0.9757 - val_loss: 0.1265 - val_accuracy: 0.9433\n",
      "Epoch 70/100\n",
      "19/22 [========================>.....] - ETA: 0s - loss: 0.0770 - accuracy: 0.9704"
     ]
    },
    {
     "name": "stderr",
     "output_type": "stream",
     "text": [
      "WARNING:tensorflow:Early stopping conditioned on metric `val_acc` which is not available. Available metrics are: loss,accuracy,val_loss,val_accuracy\n"
     ]
    },
    {
     "name": "stdout",
     "output_type": "stream",
     "text": [
      "\b\b\b\b\b\b\b\b\b\b\b\b\b\b\b\b\b\b\b\b\b\b\b\b\b\b\b\b\b\b\b\b\b\b\b\b\b\b\b\b\b\b\b\b\b\b\b\b\b\b\b\b\b\b\b\b\b\b\b\b\b\b\b\b\b\b\b\b\b\b\b\b\b\b\b\b\b\b\b\b\b\b\r",
      "22/22 [==============================] - 0s 5ms/step - loss: 0.0800 - accuracy: 0.9700 - val_loss: 0.1797 - val_accuracy: 0.9233\n",
      "Epoch 71/100\n",
      "18/22 [=======================>......] - ETA: 0s - loss: 0.0981 - accuracy: 0.9635"
     ]
    },
    {
     "name": "stderr",
     "output_type": "stream",
     "text": [
      "WARNING:tensorflow:Early stopping conditioned on metric `val_acc` which is not available. Available metrics are: loss,accuracy,val_loss,val_accuracy\n"
     ]
    },
    {
     "name": "stdout",
     "output_type": "stream",
     "text": [
      "\b\b\b\b\b\b\b\b\b\b\b\b\b\b\b\b\b\b\b\b\b\b\b\b\b\b\b\b\b\b\b\b\b\b\b\b\b\b\b\b\b\b\b\b\b\b\b\b\b\b\b\b\b\b\b\b\b\b\b\b\b\b\b\b\b\b\b\b\b\b\b\b\b\b\b\b\b\b\b\b\b\b\r",
      "22/22 [==============================] - 0s 5ms/step - loss: 0.0905 - accuracy: 0.9671 - val_loss: 0.1233 - val_accuracy: 0.9467\n",
      "Epoch 72/100\n",
      "17/22 [======================>.......] - ETA: 0s - loss: 0.0831 - accuracy: 0.9596"
     ]
    },
    {
     "name": "stderr",
     "output_type": "stream",
     "text": [
      "WARNING:tensorflow:Early stopping conditioned on metric `val_acc` which is not available. Available metrics are: loss,accuracy,val_loss,val_accuracy\n"
     ]
    },
    {
     "name": "stdout",
     "output_type": "stream",
     "text": [
      "\b\b\b\b\b\b\b\b\b\b\b\b\b\b\b\b\b\b\b\b\b\b\b\b\b\b\b\b\b\b\b\b\b\b\b\b\b\b\b\b\b\b\b\b\b\b\b\b\b\b\b\b\b\b\b\b\b\b\b\b\b\b\b\b\b\b\b\b\b\b\b\b\b\b\b\b\b\b\b\b\b\b\r",
      "22/22 [==============================] - 0s 6ms/step - loss: 0.0707 - accuracy: 0.9671 - val_loss: 0.1063 - val_accuracy: 0.9533\n",
      "Epoch 73/100\n",
      "19/22 [========================>.....] - ETA: 0s - loss: 0.0849 - accuracy: 0.9688"
     ]
    },
    {
     "name": "stderr",
     "output_type": "stream",
     "text": [
      "WARNING:tensorflow:Early stopping conditioned on metric `val_acc` which is not available. Available metrics are: loss,accuracy,val_loss,val_accuracy\n"
     ]
    },
    {
     "name": "stdout",
     "output_type": "stream",
     "text": [
      "\b\b\b\b\b\b\b\b\b\b\b\b\b\b\b\b\b\b\b\b\b\b\b\b\b\b\b\b\b\b\b\b\b\b\b\b\b\b\b\b\b\b\b\b\b\b\b\b\b\b\b\b\b\b\b\b\b\b\b\b\b\b\b\b\b\b\b\b\b\b\b\b\b\b\b\b\b\b\b\b\b\b\r",
      "22/22 [==============================] - 0s 5ms/step - loss: 0.0822 - accuracy: 0.9671 - val_loss: 0.1255 - val_accuracy: 0.9500\n",
      "Epoch 74/100\n",
      "18/22 [=======================>......] - ETA: 0s - loss: 0.0891 - accuracy: 0.9635"
     ]
    },
    {
     "name": "stderr",
     "output_type": "stream",
     "text": [
      "WARNING:tensorflow:Early stopping conditioned on metric `val_acc` which is not available. Available metrics are: loss,accuracy,val_loss,val_accuracy\n"
     ]
    },
    {
     "name": "stdout",
     "output_type": "stream",
     "text": [
      "\b\b\b\b\b\b\b\b\b\b\b\b\b\b\b\b\b\b\b\b\b\b\b\b\b\b\b\b\b\b\b\b\b\b\b\b\b\b\b\b\b\b\b\b\b\b\b\b\b\b\b\b\b\b\b\b\b\b\b\b\b\b\b\b\b\b\b\b\b\b\b\b\b\b\b\b\b\b\b\b\b\b\r",
      "22/22 [==============================] - 0s 5ms/step - loss: 0.0917 - accuracy: 0.9657 - val_loss: 0.1794 - val_accuracy: 0.9433\n",
      "Epoch 75/100\n",
      "18/22 [=======================>......] - ETA: 0s - loss: 0.0836 - accuracy: 0.9688"
     ]
    },
    {
     "name": "stderr",
     "output_type": "stream",
     "text": [
      "WARNING:tensorflow:Early stopping conditioned on metric `val_acc` which is not available. Available metrics are: loss,accuracy,val_loss,val_accuracy\n"
     ]
    },
    {
     "name": "stdout",
     "output_type": "stream",
     "text": [
      "\b\b\b\b\b\b\b\b\b\b\b\b\b\b\b\b\b\b\b\b\b\b\b\b\b\b\b\b\b\b\b\b\b\b\b\b\b\b\b\b\b\b\b\b\b\b\b\b\b\b\b\b\b\b\b\b\b\b\b\b\b\b\b\b\b\b\b\b\b\b\b\b\b\b\b\b\b\b\b\b\b\b\r",
      "22/22 [==============================] - 0s 6ms/step - loss: 0.0771 - accuracy: 0.9714 - val_loss: 0.1245 - val_accuracy: 0.9467\n",
      "Epoch 76/100\n",
      "16/22 [====================>.........] - ETA: 0s - loss: 0.0556 - accuracy: 0.9727"
     ]
    },
    {
     "name": "stderr",
     "output_type": "stream",
     "text": [
      "WARNING:tensorflow:Early stopping conditioned on metric `val_acc` which is not available. Available metrics are: loss,accuracy,val_loss,val_accuracy\n"
     ]
    },
    {
     "name": "stdout",
     "output_type": "stream",
     "text": [
      "\b\b\b\b\b\b\b\b\b\b\b\b\b\b\b\b\b\b\b\b\b\b\b\b\b\b\b\b\b\b\b\b\b\b\b\b\b\b\b\b\b\b\b\b\b\b\b\b\b\b\b\b\b\b\b\b\b\b\b\b\b\b\b\b\b\b\b\b\b\b\b\b\b\b\b\b\b\b\b\b\b\b\r",
      "22/22 [==============================] - 0s 6ms/step - loss: 0.0537 - accuracy: 0.9771 - val_loss: 0.1455 - val_accuracy: 0.9533\n",
      "Epoch 77/100\n",
      "18/22 [=======================>......] - ETA: 0s - loss: 0.0572 - accuracy: 0.9774"
     ]
    },
    {
     "name": "stderr",
     "output_type": "stream",
     "text": [
      "WARNING:tensorflow:Early stopping conditioned on metric `val_acc` which is not available. Available metrics are: loss,accuracy,val_loss,val_accuracy\n"
     ]
    },
    {
     "name": "stdout",
     "output_type": "stream",
     "text": [
      "\b\b\b\b\b\b\b\b\b\b\b\b\b\b\b\b\b\b\b\b\b\b\b\b\b\b\b\b\b\b\b\b\b\b\b\b\b\b\b\b\b\b\b\b\b\b\b\b\b\b\b\b\b\b\b\b\b\b\b\b\b\b\b\b\b\b\b\b\b\b\b\b\b\b\b\b\b\b\b\b\b\b\r",
      "22/22 [==============================] - 0s 5ms/step - loss: 0.0626 - accuracy: 0.9757 - val_loss: 0.1442 - val_accuracy: 0.9533\n",
      "Epoch 78/100\n",
      "19/22 [========================>.....] - ETA: 0s - loss: 0.0876 - accuracy: 0.9605"
     ]
    },
    {
     "name": "stderr",
     "output_type": "stream",
     "text": [
      "WARNING:tensorflow:Early stopping conditioned on metric `val_acc` which is not available. Available metrics are: loss,accuracy,val_loss,val_accuracy\n"
     ]
    },
    {
     "name": "stdout",
     "output_type": "stream",
     "text": [
      "\b\b\b\b\b\b\b\b\b\b\b\b\b\b\b\b\b\b\b\b\b\b\b\b\b\b\b\b\b\b\b\b\b\b\b\b\b\b\b\b\b\b\b\b\b\b\b\b\b\b\b\b\b\b\b\b\b\b\b\b\b\b\b\b\b\b\b\b\b\b\b\b\b\b\b\b\b\b\b\b\b\b\r",
      "22/22 [==============================] - 0s 5ms/step - loss: 0.0911 - accuracy: 0.9586 - val_loss: 0.1417 - val_accuracy: 0.9433\n",
      "Epoch 79/100\n",
      "20/22 [==========================>...] - ETA: 0s - loss: 0.0526 - accuracy: 0.9812"
     ]
    },
    {
     "name": "stderr",
     "output_type": "stream",
     "text": [
      "WARNING:tensorflow:Early stopping conditioned on metric `val_acc` which is not available. Available metrics are: loss,accuracy,val_loss,val_accuracy\n"
     ]
    },
    {
     "name": "stdout",
     "output_type": "stream",
     "text": [
      "\b\b\b\b\b\b\b\b\b\b\b\b\b\b\b\b\b\b\b\b\b\b\b\b\b\b\b\b\b\b\b\b\b\b\b\b\b\b\b\b\b\b\b\b\b\b\b\b\b\b\b\b\b\b\b\b\b\b\b\b\b\b\b\b\b\b\b\b\b\b\b\b\b\b\b\b\b\b\b\b\b\b\r",
      "22/22 [==============================] - 0s 5ms/step - loss: 0.0544 - accuracy: 0.9800 - val_loss: 0.1269 - val_accuracy: 0.9433\n",
      "Epoch 80/100\n",
      "18/22 [=======================>......] - ETA: 0s - loss: 0.0732 - accuracy: 0.9705"
     ]
    },
    {
     "name": "stderr",
     "output_type": "stream",
     "text": [
      "WARNING:tensorflow:Early stopping conditioned on metric `val_acc` which is not available. Available metrics are: loss,accuracy,val_loss,val_accuracy\n"
     ]
    },
    {
     "name": "stdout",
     "output_type": "stream",
     "text": [
      "\b\b\b\b\b\b\b\b\b\b\b\b\b\b\b\b\b\b\b\b\b\b\b\b\b\b\b\b\b\b\b\b\b\b\b\b\b\b\b\b\b\b\b\b\b\b\b\b\b\b\b\b\b\b\b\b\b\b\b\b\b\b\b\b\b\b\b\b\b\b\b\b\b\b\b\b\b\b\b\b\b\b\r",
      "22/22 [==============================] - 0s 6ms/step - loss: 0.0710 - accuracy: 0.9729 - val_loss: 0.1912 - val_accuracy: 0.9267\n",
      "Epoch 81/100\n",
      "17/22 [======================>.......] - ETA: 0s - loss: 0.0879 - accuracy: 0.9706"
     ]
    },
    {
     "name": "stderr",
     "output_type": "stream",
     "text": [
      "WARNING:tensorflow:Early stopping conditioned on metric `val_acc` which is not available. Available metrics are: loss,accuracy,val_loss,val_accuracy\n"
     ]
    },
    {
     "name": "stdout",
     "output_type": "stream",
     "text": [
      "\b\b\b\b\b\b\b\b\b\b\b\b\b\b\b\b\b\b\b\b\b\b\b\b\b\b\b\b\b\b\b\b\b\b\b\b\b\b\b\b\b\b\b\b\b\b\b\b\b\b\b\b\b\b\b\b\b\b\b\b\b\b\b\b\b\b\b\b\b\b\b\b\b\b\b\b\b\b\b\b\b\b\r",
      "22/22 [==============================] - 0s 6ms/step - loss: 0.0836 - accuracy: 0.9729 - val_loss: 0.1733 - val_accuracy: 0.9333\n",
      "Epoch 82/100\n",
      "18/22 [=======================>......] - ETA: 0s - loss: 0.0749 - accuracy: 0.9653"
     ]
    },
    {
     "name": "stderr",
     "output_type": "stream",
     "text": [
      "WARNING:tensorflow:Early stopping conditioned on metric `val_acc` which is not available. Available metrics are: loss,accuracy,val_loss,val_accuracy\n"
     ]
    },
    {
     "name": "stdout",
     "output_type": "stream",
     "text": [
      "\b\b\b\b\b\b\b\b\b\b\b\b\b\b\b\b\b\b\b\b\b\b\b\b\b\b\b\b\b\b\b\b\b\b\b\b\b\b\b\b\b\b\b\b\b\b\b\b\b\b\b\b\b\b\b\b\b\b\b\b\b\b\b\b\b\b\b\b\b\b\b\b\b\b\b\b\b\b\b\b\b\b\r",
      "22/22 [==============================] - 0s 7ms/step - loss: 0.0720 - accuracy: 0.9657 - val_loss: 0.1380 - val_accuracy: 0.9500\n",
      "Epoch 83/100\n",
      "18/22 [=======================>......] - ETA: 0s - loss: 0.1050 - accuracy: 0.9618"
     ]
    },
    {
     "name": "stderr",
     "output_type": "stream",
     "text": [
      "WARNING:tensorflow:Early stopping conditioned on metric `val_acc` which is not available. Available metrics are: loss,accuracy,val_loss,val_accuracy\n"
     ]
    },
    {
     "name": "stdout",
     "output_type": "stream",
     "text": [
      "\b\b\b\b\b\b\b\b\b\b\b\b\b\b\b\b\b\b\b\b\b\b\b\b\b\b\b\b\b\b\b\b\b\b\b\b\b\b\b\b\b\b\b\b\b\b\b\b\b\b\b\b\b\b\b\b\b\b\b\b\b\b\b\b\b\b\b\b\b\b\b\b\b\b\b\b\b\b\b\b\b\b\r",
      "22/22 [==============================] - 0s 5ms/step - loss: 0.1023 - accuracy: 0.9600 - val_loss: 0.1849 - val_accuracy: 0.9333\n",
      "Epoch 84/100\n",
      "14/22 [==================>...........] - ETA: 0s - loss: 0.0793 - accuracy: 0.9688"
     ]
    },
    {
     "name": "stderr",
     "output_type": "stream",
     "text": [
      "WARNING:tensorflow:Early stopping conditioned on metric `val_acc` which is not available. Available metrics are: loss,accuracy,val_loss,val_accuracy\n"
     ]
    },
    {
     "name": "stdout",
     "output_type": "stream",
     "text": [
      "\b\b\b\b\b\b\b\b\b\b\b\b\b\b\b\b\b\b\b\b\b\b\b\b\b\b\b\b\b\b\b\b\b\b\b\b\b\b\b\b\b\b\b\b\b\b\b\b\b\b\b\b\b\b\b\b\b\b\b\b\b\b\b\b\b\b\b\b\b\b\b\b\b\b\b\b\b\b\b\b\b\b\r",
      "22/22 [==============================] - 0s 6ms/step - loss: 0.0912 - accuracy: 0.9629 - val_loss: 0.1442 - val_accuracy: 0.9467\n",
      "Epoch 85/100\n",
      "18/22 [=======================>......] - ETA: 0s - loss: 0.0900 - accuracy: 0.9653"
     ]
    },
    {
     "name": "stderr",
     "output_type": "stream",
     "text": [
      "WARNING:tensorflow:Early stopping conditioned on metric `val_acc` which is not available. Available metrics are: loss,accuracy,val_loss,val_accuracy\n"
     ]
    },
    {
     "name": "stdout",
     "output_type": "stream",
     "text": [
      "\b\b\b\b\b\b\b\b\b\b\b\b\b\b\b\b\b\b\b\b\b\b\b\b\b\b\b\b\b\b\b\b\b\b\b\b\b\b\b\b\b\b\b\b\b\b\b\b\b\b\b\b\b\b\b\b\b\b\b\b\b\b\b\b\b\b\b\b\b\b\b\b\b\b\b\b\b\b\b\b\b\b\r",
      "22/22 [==============================] - 0s 5ms/step - loss: 0.0905 - accuracy: 0.9643 - val_loss: 0.1283 - val_accuracy: 0.9533\n",
      "Epoch 86/100\n",
      "17/22 [======================>.......] - ETA: 0s - loss: 0.0765 - accuracy: 0.9669"
     ]
    },
    {
     "name": "stderr",
     "output_type": "stream",
     "text": [
      "WARNING:tensorflow:Early stopping conditioned on metric `val_acc` which is not available. Available metrics are: loss,accuracy,val_loss,val_accuracy\n"
     ]
    },
    {
     "name": "stdout",
     "output_type": "stream",
     "text": [
      "\b\b\b\b\b\b\b\b\b\b\b\b\b\b\b\b\b\b\b\b\b\b\b\b\b\b\b\b\b\b\b\b\b\b\b\b\b\b\b\b\b\b\b\b\b\b\b\b\b\b\b\b\b\b\b\b\b\b\b\b\b\b\b\b\b\b\b\b\b\b\b\b\b\b\b\b\b\b\b\b\b\b\r",
      "22/22 [==============================] - 0s 5ms/step - loss: 0.0711 - accuracy: 0.9700 - val_loss: 0.1173 - val_accuracy: 0.9533\n",
      "Epoch 87/100\n",
      "18/22 [=======================>......] - ETA: 0s - loss: 0.0568 - accuracy: 0.9792"
     ]
    },
    {
     "name": "stderr",
     "output_type": "stream",
     "text": [
      "WARNING:tensorflow:Early stopping conditioned on metric `val_acc` which is not available. Available metrics are: loss,accuracy,val_loss,val_accuracy\n"
     ]
    },
    {
     "name": "stdout",
     "output_type": "stream",
     "text": [
      "\b\b\b\b\b\b\b\b\b\b\b\b\b\b\b\b\b\b\b\b\b\b\b\b\b\b\b\b\b\b\b\b\b\b\b\b\b\b\b\b\b\b\b\b\b\b\b\b\b\b\b\b\b\b\b\b\b\b\b\b\b\b\b\b\b\b\b\b\b\b\b\b\b\b\b\b\b\b\b\b\b\b\r",
      "22/22 [==============================] - 0s 5ms/step - loss: 0.0781 - accuracy: 0.9729 - val_loss: 0.1232 - val_accuracy: 0.9600\n",
      "Epoch 88/100\n",
      "18/22 [=======================>......] - ETA: 0s - loss: 0.0697 - accuracy: 0.9740"
     ]
    },
    {
     "name": "stderr",
     "output_type": "stream",
     "text": [
      "WARNING:tensorflow:Early stopping conditioned on metric `val_acc` which is not available. Available metrics are: loss,accuracy,val_loss,val_accuracy\n"
     ]
    },
    {
     "name": "stdout",
     "output_type": "stream",
     "text": [
      "\b\b\b\b\b\b\b\b\b\b\b\b\b\b\b\b\b\b\b\b\b\b\b\b\b\b\b\b\b\b\b\b\b\b\b\b\b\b\b\b\b\b\b\b\b\b\b\b\b\b\b\b\b\b\b\b\b\b\b\b\b\b\b\b\b\b\b\b\b\b\b\b\b\b\b\b\b\b\b\b\b\b\r",
      "22/22 [==============================] - 0s 5ms/step - loss: 0.0621 - accuracy: 0.9771 - val_loss: 0.1492 - val_accuracy: 0.9333\n",
      "Epoch 89/100\n",
      "19/22 [========================>.....] - ETA: 0s - loss: 0.0716 - accuracy: 0.9671"
     ]
    },
    {
     "name": "stderr",
     "output_type": "stream",
     "text": [
      "WARNING:tensorflow:Early stopping conditioned on metric `val_acc` which is not available. Available metrics are: loss,accuracy,val_loss,val_accuracy\n"
     ]
    },
    {
     "name": "stdout",
     "output_type": "stream",
     "text": [
      "\b\b\b\b\b\b\b\b\b\b\b\b\b\b\b\b\b\b\b\b\b\b\b\b\b\b\b\b\b\b\b\b\b\b\b\b\b\b\b\b\b\b\b\b\b\b\b\b\b\b\b\b\b\b\b\b\b\b\b\b\b\b\b\b\b\b\b\b\b\b\b\b\b\b\b\b\b\b\b\b\b\b\r",
      "22/22 [==============================] - 0s 5ms/step - loss: 0.0646 - accuracy: 0.9700 - val_loss: 0.1274 - val_accuracy: 0.9600\n",
      "Epoch 90/100\n",
      "15/22 [===================>..........] - ETA: 0s - loss: 0.0854 - accuracy: 0.9646"
     ]
    },
    {
     "name": "stderr",
     "output_type": "stream",
     "text": [
      "WARNING:tensorflow:Early stopping conditioned on metric `val_acc` which is not available. Available metrics are: loss,accuracy,val_loss,val_accuracy\n"
     ]
    },
    {
     "name": "stdout",
     "output_type": "stream",
     "text": [
      "\b\b\b\b\b\b\b\b\b\b\b\b\b\b\b\b\b\b\b\b\b\b\b\b\b\b\b\b\b\b\b\b\b\b\b\b\b\b\b\b\b\b\b\b\b\b\b\b\b\b\b\b\b\b\b\b\b\b\b\b\b\b\b\b\b\b\b\b\b\b\b\b\b\b\b\b\b\b\b\b\b\b\r",
      "22/22 [==============================] - 0s 8ms/step - loss: 0.0896 - accuracy: 0.9629 - val_loss: 0.1327 - val_accuracy: 0.9533\n",
      "Epoch 91/100\n",
      "17/22 [======================>.......] - ETA: 0s - loss: 0.0573 - accuracy: 0.9724"
     ]
    },
    {
     "name": "stderr",
     "output_type": "stream",
     "text": [
      "WARNING:tensorflow:Early stopping conditioned on metric `val_acc` which is not available. Available metrics are: loss,accuracy,val_loss,val_accuracy\n"
     ]
    },
    {
     "name": "stdout",
     "output_type": "stream",
     "text": [
      "\b\b\b\b\b\b\b\b\b\b\b\b\b\b\b\b\b\b\b\b\b\b\b\b\b\b\b\b\b\b\b\b\b\b\b\b\b\b\b\b\b\b\b\b\b\b\b\b\b\b\b\b\b\b\b\b\b\b\b\b\b\b\b\b\b\b\b\b\b\b\b\b\b\b\b\b\b\b\b\b\b\b\r",
      "22/22 [==============================] - 0s 6ms/step - loss: 0.0532 - accuracy: 0.9729 - val_loss: 0.1121 - val_accuracy: 0.9533\n",
      "Epoch 92/100\n",
      "18/22 [=======================>......] - ETA: 0s - loss: 0.0616 - accuracy: 0.9740"
     ]
    },
    {
     "name": "stderr",
     "output_type": "stream",
     "text": [
      "WARNING:tensorflow:Early stopping conditioned on metric `val_acc` which is not available. Available metrics are: loss,accuracy,val_loss,val_accuracy\n"
     ]
    },
    {
     "name": "stdout",
     "output_type": "stream",
     "text": [
      "\b\b\b\b\b\b\b\b\b\b\b\b\b\b\b\b\b\b\b\b\b\b\b\b\b\b\b\b\b\b\b\b\b\b\b\b\b\b\b\b\b\b\b\b\b\b\b\b\b\b\b\b\b\b\b\b\b\b\b\b\b\b\b\b\b\b\b\b\b\b\b\b\b\b\b\b\b\b\b\b\b\b\r",
      "22/22 [==============================] - 0s 7ms/step - loss: 0.0555 - accuracy: 0.9771 - val_loss: 0.1081 - val_accuracy: 0.9600\n",
      "Epoch 93/100\n",
      "18/22 [=======================>......] - ETA: 0s - loss: 0.0641 - accuracy: 0.9792"
     ]
    },
    {
     "name": "stderr",
     "output_type": "stream",
     "text": [
      "WARNING:tensorflow:Early stopping conditioned on metric `val_acc` which is not available. Available metrics are: loss,accuracy,val_loss,val_accuracy\n"
     ]
    },
    {
     "name": "stdout",
     "output_type": "stream",
     "text": [
      "\b\b\b\b\b\b\b\b\b\b\b\b\b\b\b\b\b\b\b\b\b\b\b\b\b\b\b\b\b\b\b\b\b\b\b\b\b\b\b\b\b\b\b\b\b\b\b\b\b\b\b\b\b\b\b\b\b\b\b\b\b\b\b\b\b\b\b\b\b\b\b\b\b\b\b\b\b\b\b\b\b\b\r",
      "22/22 [==============================] - 0s 5ms/step - loss: 0.0632 - accuracy: 0.9800 - val_loss: 0.1456 - val_accuracy: 0.9467\n",
      "Epoch 94/100\n",
      "17/22 [======================>.......] - ETA: 0s - loss: 0.0642 - accuracy: 0.9743"
     ]
    },
    {
     "name": "stderr",
     "output_type": "stream",
     "text": [
      "WARNING:tensorflow:Early stopping conditioned on metric `val_acc` which is not available. Available metrics are: loss,accuracy,val_loss,val_accuracy\n"
     ]
    },
    {
     "name": "stdout",
     "output_type": "stream",
     "text": [
      "\b\b\b\b\b\b\b\b\b\b\b\b\b\b\b\b\b\b\b\b\b\b\b\b\b\b\b\b\b\b\b\b\b\b\b\b\b\b\b\b\b\b\b\b\b\b\b\b\b\b\b\b\b\b\b\b\b\b\b\b\b\b\b\b\b\b\b\b\b\b\b\b\b\b\b\b\b\b\b\b\b\b\r",
      "22/22 [==============================] - 0s 7ms/step - loss: 0.0644 - accuracy: 0.9757 - val_loss: 0.1411 - val_accuracy: 0.9567\n",
      "Epoch 95/100\n",
      "19/22 [========================>.....] - ETA: 0s - loss: 0.0639 - accuracy: 0.9753"
     ]
    },
    {
     "name": "stderr",
     "output_type": "stream",
     "text": [
      "WARNING:tensorflow:Early stopping conditioned on metric `val_acc` which is not available. Available metrics are: loss,accuracy,val_loss,val_accuracy\n"
     ]
    },
    {
     "name": "stdout",
     "output_type": "stream",
     "text": [
      "\b\b\b\b\b\b\b\b\b\b\b\b\b\b\b\b\b\b\b\b\b\b\b\b\b\b\b\b\b\b\b\b\b\b\b\b\b\b\b\b\b\b\b\b\b\b\b\b\b\b\b\b\b\b\b\b\b\b\b\b\b\b\b\b\b\b\b\b\b\b\b\b\b\b\b\b\b\b\b\b\b\b\r",
      "22/22 [==============================] - 0s 5ms/step - loss: 0.0591 - accuracy: 0.9771 - val_loss: 0.1430 - val_accuracy: 0.9567\n",
      "Epoch 96/100\n",
      "18/22 [=======================>......] - ETA: 0s - loss: 0.0739 - accuracy: 0.9601"
     ]
    },
    {
     "name": "stderr",
     "output_type": "stream",
     "text": [
      "WARNING:tensorflow:Early stopping conditioned on metric `val_acc` which is not available. Available metrics are: loss,accuracy,val_loss,val_accuracy\n"
     ]
    },
    {
     "name": "stdout",
     "output_type": "stream",
     "text": [
      "\b\b\b\b\b\b\b\b\b\b\b\b\b\b\b\b\b\b\b\b\b\b\b\b\b\b\b\b\b\b\b\b\b\b\b\b\b\b\b\b\b\b\b\b\b\b\b\b\b\b\b\b\b\b\b\b\b\b\b\b\b\b\b\b\b\b\b\b\b\b\b\b\b\b\b\b\b\b\b\b\b\b\r",
      "22/22 [==============================] - 0s 5ms/step - loss: 0.0757 - accuracy: 0.9629 - val_loss: 0.1316 - val_accuracy: 0.9500\n",
      "Epoch 97/100\n",
      "18/22 [=======================>......] - ETA: 0s - loss: 0.0850 - accuracy: 0.9670"
     ]
    },
    {
     "name": "stderr",
     "output_type": "stream",
     "text": [
      "WARNING:tensorflow:Early stopping conditioned on metric `val_acc` which is not available. Available metrics are: loss,accuracy,val_loss,val_accuracy\n"
     ]
    },
    {
     "name": "stdout",
     "output_type": "stream",
     "text": [
      "\b\b\b\b\b\b\b\b\b\b\b\b\b\b\b\b\b\b\b\b\b\b\b\b\b\b\b\b\b\b\b\b\b\b\b\b\b\b\b\b\b\b\b\b\b\b\b\b\b\b\b\b\b\b\b\b\b\b\b\b\b\b\b\b\b\b\b\b\b\b\b\b\b\b\b\b\b\b\b\b\b\b\r",
      "22/22 [==============================] - 0s 5ms/step - loss: 0.0887 - accuracy: 0.9657 - val_loss: 0.1422 - val_accuracy: 0.9567\n",
      "Epoch 98/100\n",
      "18/22 [=======================>......] - ETA: 0s - loss: 0.0677 - accuracy: 0.9757"
     ]
    },
    {
     "name": "stderr",
     "output_type": "stream",
     "text": [
      "WARNING:tensorflow:Early stopping conditioned on metric `val_acc` which is not available. Available metrics are: loss,accuracy,val_loss,val_accuracy\n"
     ]
    },
    {
     "name": "stdout",
     "output_type": "stream",
     "text": [
      "\b\b\b\b\b\b\b\b\b\b\b\b\b\b\b\b\b\b\b\b\b\b\b\b\b\b\b\b\b\b\b\b\b\b\b\b\b\b\b\b\b\b\b\b\b\b\b\b\b\b\b\b\b\b\b\b\b\b\b\b\b\b\b\b\b\b\b\b\b\b\b\b\b\b\b\b\b\b\b\b\b\b\r",
      "22/22 [==============================] - 0s 7ms/step - loss: 0.0678 - accuracy: 0.9757 - val_loss: 0.1265 - val_accuracy: 0.9600\n",
      "Epoch 99/100\n",
      "18/22 [=======================>......] - ETA: 0s - loss: 0.0732 - accuracy: 0.9705"
     ]
    },
    {
     "name": "stderr",
     "output_type": "stream",
     "text": [
      "WARNING:tensorflow:Early stopping conditioned on metric `val_acc` which is not available. Available metrics are: loss,accuracy,val_loss,val_accuracy\n"
     ]
    },
    {
     "name": "stdout",
     "output_type": "stream",
     "text": [
      "\b\b\b\b\b\b\b\b\b\b\b\b\b\b\b\b\b\b\b\b\b\b\b\b\b\b\b\b\b\b\b\b\b\b\b\b\b\b\b\b\b\b\b\b\b\b\b\b\b\b\b\b\b\b\b\b\b\b\b\b\b\b\b\b\b\b\b\b\b\b\b\b\b\b\b\b\b\b\b\b\b\b\r",
      "22/22 [==============================] - 0s 5ms/step - loss: 0.0746 - accuracy: 0.9700 - val_loss: 0.1524 - val_accuracy: 0.9400\n",
      "Epoch 100/100\n",
      "18/22 [=======================>......] - ETA: 0s - loss: 0.0830 - accuracy: 0.9774"
     ]
    },
    {
     "name": "stderr",
     "output_type": "stream",
     "text": [
      "WARNING:tensorflow:Early stopping conditioned on metric `val_acc` which is not available. Available metrics are: loss,accuracy,val_loss,val_accuracy\n"
     ]
    },
    {
     "name": "stdout",
     "output_type": "stream",
     "text": [
      "22/22 [==============================] - 0s 7ms/step - loss: 0.0857 - accuracy: 0.9757 - val_loss: 0.1263 - val_accuracy: 0.9567\n",
      "10/10 [==============================] - 0s 3ms/step - loss: 0.1263 - accuracy: 0.9567\n",
      "\n",
      "\n",
      "Test loss: 0.12634441256523132 Test accuracy: 0.9566666483879089\n",
      "319/319 [==============================] - 1s 2ms/step\n"
     ]
    },
    {
     "data": {
      "image/png": "[encoded data removed]",
      "text/plain": [
       "<Figure size 1200x800 with 1 Axes>"
      ]
     },
     "metadata": {},
     "output_type": "display_data"
    }
   ],
   "source": [
    "#   deep_circles.py\n",
    "#   Defines a network that can find separate circles of data\n",
    "#\n",
    "\n",
    "#   Imports\n",
    "from sklearn.datasets import make_circles\n",
    "import numpy as np\n",
    "import matplotlib.pyplot as plt\n",
    "import os\n",
    "os.environ[\"TF_CPP_MIN_LOG_LEVEL\"]=\"2\"\n",
    "\n",
    "#   Helper functions\n",
    "\n",
    "#   plot the data on a figure\n",
    "def plot_data(pl, X, y):\n",
    "    # plot class where y==0\n",
    "    pl.plot(X[y==0, 0], X[y==0,1], 'ob', alpha=0.5)\n",
    "    # plot class where y==1\n",
    "    pl.plot(X[y==1, 0], X[y==1,1], 'xr', alpha=0.5)\n",
    "    pl.legend(['0', '1'])\n",
    "    return pl\n",
    "\n",
    "#   Common function that draws the decision boundaries\n",
    "def plot_decision_boundary(model, X, y):\n",
    "\n",
    "    amin, bmin = X.min(axis=0) - 0.1\n",
    "    amax, bmax = X.max(axis=0) + 0.1\n",
    "    hticks = np.linspace(amin, amax, 101)\n",
    "    vticks = np.linspace(bmin, bmax, 101)\n",
    "\n",
    "    aa, bb = np.meshgrid(hticks, vticks)\n",
    "    ab = np.c_[aa.ravel(), bb.ravel()]\n",
    "\n",
    "    # make prediction with the model and reshape the output so contourf can plot it\n",
    "    c = model.predict(ab)\n",
    "    Z = c.reshape(aa.shape)\n",
    "\n",
    "    plt.figure(figsize=(12, 8))\n",
    "    # plot the contour\n",
    "    plt.contourf(aa, bb, Z, cmap='bwr', alpha=0.2)\n",
    "    # plot the moons of data\n",
    "    plot_data(plt, X, y)\n",
    "\n",
    "    return plt\n",
    "\n",
    "\n",
    "# Generate some data blobs.  Data will be either 0 or 1 when 2 is number of centers.\n",
    "# X is a [number of samples, 2] sized array. X[sample] contains its x,y position of the sample in the space\n",
    "# ex: X[1] = [1.342, -2.3], X[2] = [-4.342, 2.12]\n",
    "# y is a [number of samples] sized array. y[sample] contains the class index (ie. 0 or 1 when there are 2 centers)\n",
    "# ex: y[1] = 0 , y[1] = 1\n",
    "X, y = make_circles(n_samples=1000, factor=.6, noise=0.1, random_state=42)\n",
    "#pl = plot_data(plt, X, y)\n",
    "#pl.show()\n",
    "\n",
    "# Split the data into Training and Test sets\n",
    "from sklearn.model_selection import train_test_split\n",
    "X_train, X_test, y_train, y_test = train_test_split(X, y, test_size=0.3, random_state=42)\n",
    "\n",
    "# Create the keras model\n",
    "from keras.models import Sequential\n",
    "from keras.layers import Dense\n",
    "from keras.optimizers import Adam\n",
    "\n",
    "# #   Simple Sequential model\n",
    "# model = Sequential()\n",
    "# model.add(Dense(4, input_shape=(2,), activation=\"tanh\",  name=\"Hidden-1\"))\n",
    "# model.add(Dense(4, activation=\"tanh\", name=\"Hidden-2\"))\n",
    "# #   Add a Dense Fully Connected Layer with 1 neuron.  Using input_shape = (2,) says the input will\n",
    "# #       be arrays of the form (*,2).  The first dimension will be an unspecified\n",
    "# #       number of batches (rows) of data.  The second dimension is 2 which are the X, Y positions of each data element.\n",
    "# #       The sigmoid activation function is used to return 0 or 1, signifying the data\n",
    "# #       cluster the position is predicted to belong to.\n",
    "# model.add(Dense(1, activation=\"sigmoid\", name=\"Output_layer\"))\n",
    "#\n",
    "#   Implement as Functional API\n",
    "from keras.models import Model\n",
    "from keras.layers import Input\n",
    "#\n",
    "inputs = Input(shape=(2,))\n",
    "#   Hidden layers\n",
    "x = Dense(4, activation=\"tanh\",  name=\"Hidden-1\")(inputs)\n",
    "x = Dense(4, activation=\"tanh\", name=\"Hidden-2\")(x)\n",
    "#   Output Layer\n",
    "o = Dense(1, activation=\"sigmoid\", name=\"Output_layer\")(x)\n",
    "#   Create Model and specify the input and output\n",
    "model = Model(inputs=inputs, outputs=o)\n",
    "#   Display summary\n",
    "model.summary()\n",
    "#   Compile the model.  Minimize crossentopy for a binary.  Maximize for accuracy\n",
    "model.compile(Adam(lr=0.05), 'binary_crossentropy', metrics=['accuracy'])\n",
    "from keras.utils import plot_model\n",
    "plot_model(model, to_file=\"model.png\", show_shapes=True, show_layer_names=True)\n",
    "#   Define early stopping callback\n",
    "from keras.callbacks import EarlyStopping\n",
    "my_callbacks = [EarlyStopping(monitor='val_acc', patience=5, mode='max')]\n",
    "#   Fit the model with the data.  Make 100 cycles through the data.\n",
    "#       Set verbose to 0 to supress progress messages\n",
    "model.fit(X_train, y_train, epochs=100, verbose=1, callbacks=my_callbacks, validation_data=(X_test, y_test) )\n",
    "#   Get loss and accuracy on test data\n",
    "eval_result = model.evaluate(X_test, y_test)\n",
    "#   Print test accuracy\n",
    "print(\"\\n\\nTest loss:\", eval_result[0], \"Test accuracy:\", eval_result[1])\n",
    "#   Plot the decision boundary\n",
    "plot_decision_boundary(model, X, y).show()"
   ]
  },
  {
   "cell_type": "code",
   "execution_count": null,
   "metadata": {
    "id": "vCYoezPkdK9K"
   },
   "outputs": [],
   "source": []
  },
  {
   "cell_type": "code",
   "execution_count": null,
   "metadata": {
    "id": "XjWoDfFRdLAC"
   },
   "outputs": [],
   "source": []
  },
  {
   "cell_type": "code",
   "execution_count": null,
   "metadata": {
    "id": "9acOk8T3dLC4"
   },
   "outputs": [],
   "source": []
  },
  {
   "cell_type": "code",
   "execution_count": 27,
   "metadata": {
    "colab": {
     "base_uri": "https://localhost:8080/",
     "height": 564
    },
    "id": "ajyFYPpddLGC",
    "outputId": "ab2f33e8-59b6-486d-e57e-01a1ce1aae47"
   },
   "outputs": [
    {
     "data": {
      "image/png": "[encoded data removed]",
      "text/plain": [
       "<IPython.core.display.Image object>"
      ]
     },
     "execution_count": 27,
     "metadata": {},
     "output_type": "execute_result"
    }
   ],
   "source": [
    "#   Demonstrates multiple input and output using the Functional API\n",
    "\n",
    "from keras.layers import Input, Embedding, LSTM, Dense, concatenate\n",
    "from keras.models import Model\n",
    "from keras.utils import plot_model\n",
    "\n",
    "im = Input(shape=(100,200), name='input_main')    # Main Input\n",
    "ls = LSTM(10, name='lstm_main')(im)\n",
    "dl = Dense(5, activation='relu', name='dense_lstm')(ls)\n",
    "\n",
    "ix = Input(shape=(5,), name='input_aux')             # Aux Input\n",
    "cc = concatenate([dl, ix], name='d_lstm_and_aux_in')\n",
    "x = Dense(32, activation='relu', name='dm_out')(cc)\n",
    "mo = Dense(1, activation='sigmoid', name='main_out')(x)\n",
    "\n",
    "ao = Dense(2, name='aux_out')(cc)\n",
    "\n",
    "model = Model(inputs=[im, ix],\n",
    "                outputs=[mo, ao])\n",
    "\n",
    "plot_model(model, to_file='model.png', show_shapes=False)"
   ]
  },
  {
   "cell_type": "markdown",
   "metadata": {
    "id": "p5376OB-f3ZH"
   },
   "source": [
    "**Final Improved Fashion MNIST Model using all the above points**"
   ]
  },
  {
   "cell_type": "code",
   "execution_count": null,
   "metadata": {
    "id": "zvbJWfXKRQXr"
   },
   "outputs": [],
   "source": [
    "#Additional Example\n",
    "#   Train a ConvNet on the MNIST fashion data.  This data consists of 10 classes of fashion images such\n",
    "#   as shorts, dresses, shoes, purses, etc.  These images replace the handwritten digits in the classic MNIST dataset.\n",
    "#   This change makes it harder to get a high score and more closely reflects real world usage of image\n",
    "#   classification.  And at the same time, is still small enough for the average PC to train in a short time.\n",
    "# See https://github.com/zalandoresearch/fashion-mnist for information and code on Fashion MNIST\n",
    "\n",
    "# This code is based on MNIST example found at Keras.io\n",
    "\n",
    "from __future__ import print_function\n",
    "import keras\n",
    "from keras.datasets import fashion_mnist  # new with Keras 2.1.2.  Yah!!\n",
    "from keras.models import Sequential\n",
    "from keras.layers import Dense, Dropout, Flatten\n",
    "from keras.layers import Conv2D, MaxPooling2D\n",
    "from keras import backend as K\n",
    "\n",
    "#   Supress warning and informational messages\n",
    "import os\n",
    "os.environ['TF_CPP_MIN_LOG_LEVEL'] = '3'\n",
    "\n",
    "# Number of classes - do not change unless the data changes\n",
    "num_classes = 10\n",
    "\n",
    "# sizes of batch and # of epochs of data\n",
    "batch_size = 128\n",
    "epochs = 24\n",
    "\n",
    "# input image dimensions\n",
    "img_rows, img_cols = 28, 28\n",
    "\n",
    "# the data, shuffled and split between train and test sets\n",
    "(x_train, y_train), (x_test, y_test) = fashion_mnist.load_data()"
   ]
  },
  {
   "cell_type": "code",
   "execution_count": null,
   "metadata": {
    "id": "zvbJWfXKRQXr"
   },
   "outputs": [],
   "source": [
    "#   Deal with format issues between different backends.  Some put the # of channels in the image before the width and height of image.\n",
    "if K.image_data_format() == 'channels_first':\n",
    "    x_train = x_train.reshape(x_train.shape[0], 1, img_rows, img_cols)\n",
    "    x_test = X_test.reshape(x_test.shape[0], 1, img_rows, img_cols)\n",
    "    input_shape = (1, img_rows, img_cols)\n",
    "else:\n",
    "    x_train = x_train.reshape(x_train.shape[0], img_rows, img_cols, 1)\n",
    "    x_test = x_test.reshape(x_test.shape[0], img_rows, img_cols, 1)\n",
    "    input_shape = (img_rows, img_cols, 1)\n",
    "\n",
    "#   Type convert and scale the test and training data\n",
    "x_train = x_train.astype('float32')\n",
    "x_test = x_test.astype('float32')\n",
    "x_train /= 255\n",
    "x_test /= 255\n",
    "#print('x_train shape:', x_train.shape)\n",
    "#print('x_test shape:', x_test.shape)\n",
    "\n",
    "#print(y_train[:4])\n",
    "# convert class vectors to binary class matrices.  One-hot encoding\n",
    "#  3 => 0 0 0 1 0 0 0 0 0 0 and 1 => 0 1 0 0 0 0 0 0 0 0\n",
    "y_train = keras.utils.to_categorical(y_train, num_classes)\n",
    "y_test = keras.utils.to_categorical(y_test, num_classes)\n",
    "#print(y_train[:4])   # verify one-hot encoding\n",
    "\n",
    "# Define the model\n",
    "model = Sequential()\n",
    "# V1\n",
    "# model.add(Conv2D(32, kernel_size=(3, 3),\n",
    "#                  activation='relu',\n",
    "#                  input_shape=input_shape))\n",
    "# model.add(MaxPooling2D(pool_size=(2, 2)))\n",
    "# model.add(Conv2D(32, (3, 3), activation='relu'))\n",
    "# model.add(MaxPooling2D(pool_size=(2, 2)))\n",
    "# model.add(Flatten())\n",
    "# model.add(Dense(128, activation='relu'))\n",
    "# model.add(Dropout(0.5))\n",
    "# model.add(Dense(num_classes, activation='softmax'))\n",
    "\n",
    "# V2\n",
    "# model.add(Conv2D(32, kernel_size=(3, 3),\n",
    "#                  activation='relu',\n",
    "#                  input_shape=input_shape))\n",
    "# model.add(MaxPooling2D(pool_size=(2, 2)))\n",
    "# model.add(Conv2D(64, (3, 3), activation='relu'))\n",
    "# model.add(MaxPooling2D(pool_size=(2, 2)))\n",
    "# model.add(Flatten())\n",
    "# model.add(Dense(128, activation='relu'))\n",
    "# model.add(Dropout(0.5))\n",
    "# model.add(Dense(num_classes, activation='softmax'))\n",
    "\n",
    "\n",
    "# #V3\n",
    "# model.add(Conv2D(32, kernel_size=(3, 3),\n",
    "#                  activation='relu',\n",
    "#                  input_shape=input_shape))\n",
    "# #model.add(MaxPooling2D(pool_size=(2, 2)))\n",
    "# model.add(Conv2D(64, (3, 3), activation='relu'))\n",
    "# model.add(MaxPooling2D(pool_size=(2, 2)))\n",
    "# model.add(Dropout(0.25))\n",
    "# model.add(Flatten())\n",
    "# model.add(Dense(128, activation='relu'))\n",
    "# model.add(Dropout(0.5))\n",
    "# model.add(Dense(num_classes, activation='softmax'))\n",
    "\n",
    "# #V3\n",
    "# model.add(Conv2D(64, kernel_size=(3, 3),\n",
    "#                  activation='relu',\n",
    "#                  input_shape=input_shape))\n",
    "# model.add(MaxPooling2D(pool_size=(2, 2)))\n",
    "# model.add(Conv2D(64, (3, 3), activation='relu'))\n",
    "# model.add(MaxPooling2D(pool_size=(2, 2)))\n",
    "# model.add(Dropout(0.25))\n",
    "# model.add(Flatten())\n",
    "# model.add(Dense(128, activation='relu'))\n",
    "# model.add(Dropout(0.5))\n",
    "# model.add(Dense(num_classes, activation='softmax'))\n",
    "\n",
    "#V4 - remove 1st max pool\n",
    "model.add(Conv2D(32, kernel_size=(3, 3),\n",
    "                 activation='relu',\n",
    "                 input_shape=input_shape))\n",
    "#model.add(MaxPooling2D(pool_size=(2, 2)))\n",
    "model.add(Conv2D(64, (3, 3), activation='relu'))\n",
    "model.add(MaxPooling2D(pool_size=(2, 2)))\n",
    "model.add(Dropout(0.25))\n",
    "model.add(Flatten())\n",
    "model.add(Dense(128, activation='relu'))\n",
    "model.add(Dropout(0.5))\n",
    "model.add(Dense(num_classes, activation='softmax'))"
   ]
  },
  {
   "cell_type": "code",
   "execution_count": null,
   "metadata": {
    "id": "zvbJWfXKRQXr"
   },
   "outputs": [],
   "source": [
    "#   define compile to minimize categorical loss, use ada delta optimized, and optimize to maximizing accuracy\n",
    "model.compile(loss=keras.losses.categorical_crossentropy,\n",
    "              optimizer=keras.optimizers.Adadelta(),\n",
    "              metrics=['accuracy'])\n",
    "\n",
    "#   Train the model and test/validate the mode with the test data after each cycle (epoch) through the training data\n",
    "#   Return history of loss and accuracy for each epoch\n",
    "hist = model.fit(x_train, y_train,\n",
    "          batch_size=batch_size,\n",
    "          epochs=epochs,\n",
    "          verbose=1,\n",
    "          validation_data=(x_test, y_test))\n",
    "# Train with other optimization inputs\n",
    "#   Train\n",
    "BATCH_SIZE = 24\n",
    "EPOCHS = 5\n",
    "cbk_early_stopping = EarlyStopping(monitor='val_acc', patience=2, mode='max')\n",
    "model.fit(x_train, y_train, BATCH_SIZE, epochs=EPOCHS,\n",
    "            validation_data=(x_test, y_test),\n",
    "            callbacks=[cbk_early_stopping] )\n",
    "\n",
    "score, acc = model.evaluate(x_test, y_test,\n",
    "                            batch_size=BATCH_SIZE)\n",
    "print('test score:', score, ' test accuracy:', acc)\n",
    "\n",
    "#   Evaluate the model with the test data to get the scores on \"real\" data.\n",
    "score = model.evaluate(x_test, y_test, verbose=0)\n",
    "print('Test loss:', score[0])\n",
    "print('Test accuracy:', score[1])\n",
    "\n",
    "#   Plot data to see relationships in training and validation data\n",
    "import numpy as np\n",
    "import matplotlib.pyplot as plt\n",
    "epoch_list = list(range(1, len(hist.history['acc']) + 1))  # values for x axis [1, 2, ..., # of epochs]\n",
    "plt.plot(epoch_list, hist.history['acc'], epoch_list, hist.history['val_acc'])\n",
    "plt.legend(('Training Accuracy', 'Validation Accuracy'))\n",
    "plt.show()"
   ]
  },
  {
   "cell_type": "code",
   "execution_count": null,
   "metadata": {
    "id": "TcG4nNseRZ8J"
   },
   "outputs": [],
   "source": [
    "#\n",
    "#   This program will classify reviews from IMDB based on sentiment, positive or\n",
    "#   negative.  We will used the IMDB database that comes with Keras.\n",
    "#   This data has already preprocessed the reviews.  This preprocessing\n",
    "#   replaces the actual works with the encoding.  So the second most\n",
    "#   popular word is replaced by 2, third most popular by 3, etc.\n",
    "\n",
    "from keras.preprocessing import sequence\n",
    "from keras.models import Sequential\n",
    "from keras.layers import Dense, Embedding, LSTM\n",
    "from keras.callbacks import EarlyStopping\n",
    "from keras.datasets import imdb\n",
    "\n",
    "#   Supress warning and informational messages\n",
    "import os\n",
    "os.environ['TF_CPP_MIN_LOG_LEVEL'] = '3'\n",
    "\n",
    "#   Set parameters for data to use\n",
    "NUM_WORDS = 6000        # the top most n frequent words to consider\n",
    "SKIP_TOP = 2            # Skip the top most words that are likely (the, and, a)\n",
    "MAX_REVIEW_LEN = 100    # Max number of words from a review.\n",
    "\n",
    "#   Load pre-processed sentiment classified review data from IMDB Database\n",
    "(x_train, y_train), (x_test, y_test) = imdb.load_data(num_words = NUM_WORDS,\n",
    "                                        skip_top=SKIP_TOP)\n",
    "#   Print a sample\n",
    "#  returns word index vector (ex. [2, 4, 2, 2, 33, 2804, ...]) and class (0 or 1)\n",
    "print(\"encoded word sequence:\", x_train[3], \"class:\", y_train[3])\n",
    "\n",
    "\n",
    "#   Pad and truncate the review word sequences so they are all the same length\n",
    "x_train = sequence.pad_sequences(x_train, maxlen = MAX_REVIEW_LEN)\n",
    "x_test = sequence.pad_sequences(x_test, maxlen = MAX_REVIEW_LEN)\n",
    "print('x_train.shape:', x_train.shape, 'x_test.shape:', x_test.shape)\n",
    "\n",
    "#   The Model\n",
    "model = Sequential()\n",
    "model.add(Embedding(NUM_WORDS, 64 ))\n",
    "model.add(LSTM(64, dropout=0.3, recurrent_dropout=0.3))\n",
    "model.add(Dense(1, activation='sigmoid'))\n",
    "\n",
    "#   Compile\n",
    "model.compile(loss='binary_crossentropy',\n",
    "            optimizer='adam',\n",
    "            metrics=['accuracy'])\n",
    "\n",
    "#   Train\n",
    "BATCH_SIZE = 24\n",
    "EPOCHS = 5\n",
    "cbk_early_stopping = EarlyStopping(monitor='val_acc', patience=2, mode='max')\n",
    "model.fit(x_train, y_train, BATCH_SIZE, epochs=EPOCHS,\n",
    "            validation_data=(x_test, y_test),\n",
    "            callbacks=[cbk_early_stopping] )\n",
    "\n",
    "score, acc = model.evaluate(x_test, y_test,\n",
    "                            batch_size=BATCH_SIZE)\n",
    "print('test score:', score, ' test accuracy:', acc)"
   ]
  }
 ],
 "metadata": {
  "accelerator": "GPU",
  "colab": {
   "provenance": []
  },
  "kernelspec": {
   "display_name": "Python 3 (ipykernel)",
   "language": "python",
   "name": "python3"
  },
  "language_info": {
   "codemirror_mode": {
    "name": "ipython",
    "version": 3
   },
   "file_extension": ".py",
   "mimetype": "text/x-python",
   "name": "python",
   "nbconvert_exporter": "python",
   "pygments_lexer": "ipython3",
   "version": "3.9.13"
  }
 },
 "nbformat": 4,
 "nbformat_minor": 1
}
